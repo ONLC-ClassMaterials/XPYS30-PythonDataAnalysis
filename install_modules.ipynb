{
 "cells": [
  {
   "cell_type": "code",
   "execution_count": 1,
   "id": "c7e1dbcf-25ef-4c7f-a9e4-824acd5d1eea",
   "metadata": {},
   "outputs": [
    {
     "name": "stdout",
     "output_type": "stream",
     "text": [
      "Collecting numpy==1.26.4\n",
      "  Using cached numpy-1.26.4-cp311-cp311-win_amd64.whl.metadata (61 kB)\n",
      "Using cached numpy-1.26.4-cp311-cp311-win_amd64.whl (15.8 MB)\n",
      "Installing collected packages: numpy\n",
      "Successfully installed numpy-1.26.4\n",
      "Note: you may need to restart the kernel to use updated packages.\n"
     ]
    }
   ],
   "source": [
    "pip install numpy==1.26.4"
   ]
  },
  {
   "cell_type": "code",
   "execution_count": 2,
   "id": "3a3223e6-04f8-4178-8448-eaceefe7edfa",
   "metadata": {},
   "outputs": [
    {
     "name": "stdout",
     "output_type": "stream",
     "text": [
      "Requirement already satisfied: urllib3==2.1.0 in c:\\users\\scott\\appdata\\local\\anaconda3\\envs\\murach\\envs\\murach\\lib\\site-packages (2.1.0)\n",
      "Note: you may need to restart the kernel to use updated packages.\n"
     ]
    }
   ],
   "source": [
    "pip install urllib3==2.1.0"
   ]
  },
  {
   "cell_type": "code",
   "execution_count": 3,
   "id": "49a64a81-8a1d-422b-a4e5-aebc1bf55aea",
   "metadata": {},
   "outputs": [
    {
     "name": "stdout",
     "output_type": "stream",
     "text": [
      "Collecting datetime==5.4\n",
      "  Using cached DateTime-5.4-py3-none-any.whl.metadata (33 kB)\n",
      "Collecting zope.interface (from datetime==5.4)\n",
      "  Using cached zope.interface-6.2-cp311-cp311-win_amd64.whl.metadata (43 kB)\n",
      "Requirement already satisfied: pytz in c:\\users\\scott\\appdata\\local\\anaconda3\\envs\\murach\\envs\\murach\\lib\\site-packages (from datetime==5.4) (2023.3.post1)\n",
      "Requirement already satisfied: setuptools in c:\\users\\scott\\appdata\\local\\anaconda3\\envs\\murach\\envs\\murach\\lib\\site-packages (from zope.interface->datetime==5.4) (68.2.2)\n",
      "Using cached DateTime-5.4-py3-none-any.whl (52 kB)\n",
      "Using cached zope.interface-6.2-cp311-cp311-win_amd64.whl (204 kB)\n",
      "Installing collected packages: zope.interface, datetime\n",
      "Successfully installed datetime-5.4 zope.interface-6.2\n",
      "Note: you may need to restart the kernel to use updated packages.\n"
     ]
    }
   ],
   "source": [
    "pip install datetime==5.4"
   ]
  },
  {
   "cell_type": "code",
   "execution_count": 4,
   "id": "84887a6c-9073-46fb-85a0-33e88875ae1e",
   "metadata": {},
   "outputs": [
    {
     "name": "stdout",
     "output_type": "stream",
     "text": [
      "Collecting pandas==2.2.0\n",
      "  Using cached pandas-2.2.0-cp311-cp311-win_amd64.whl.metadata (19 kB)\n",
      "Requirement already satisfied: numpy<2,>=1.23.2 in c:\\users\\scott\\appdata\\local\\anaconda3\\envs\\murach\\envs\\murach\\lib\\site-packages (from pandas==2.2.0) (1.26.4)\n",
      "Requirement already satisfied: python-dateutil>=2.8.2 in c:\\users\\scott\\appdata\\local\\anaconda3\\envs\\murach\\envs\\murach\\lib\\site-packages (from pandas==2.2.0) (2.8.2)\n",
      "Requirement already satisfied: pytz>=2020.1 in c:\\users\\scott\\appdata\\local\\anaconda3\\envs\\murach\\envs\\murach\\lib\\site-packages (from pandas==2.2.0) (2023.3.post1)\n",
      "Collecting tzdata>=2022.7 (from pandas==2.2.0)\n",
      "  Using cached tzdata-2024.1-py2.py3-none-any.whl.metadata (1.4 kB)\n",
      "Requirement already satisfied: six>=1.5 in c:\\users\\scott\\appdata\\local\\anaconda3\\envs\\murach\\envs\\murach\\lib\\site-packages (from python-dateutil>=2.8.2->pandas==2.2.0) (1.16.0)\n",
      "Using cached pandas-2.2.0-cp311-cp311-win_amd64.whl (11.6 MB)\n",
      "Using cached tzdata-2024.1-py2.py3-none-any.whl (345 kB)\n",
      "Installing collected packages: tzdata, pandas\n",
      "Successfully installed pandas-2.2.0 tzdata-2024.1\n",
      "Note: you may need to restart the kernel to use updated packages.\n"
     ]
    }
   ],
   "source": [
    "pip install pandas==2.2.0"
   ]
  },
  {
   "cell_type": "code",
   "execution_count": 5,
   "id": "d347a7dc-2a7f-423a-9217-75be87704574",
   "metadata": {},
   "outputs": [
    {
     "name": "stdout",
     "output_type": "stream",
     "text": [
      "Collecting seaborn==0.13.2\n",
      "  Using cached seaborn-0.13.2-py3-none-any.whl.metadata (5.4 kB)\n",
      "Requirement already satisfied: numpy!=1.24.0,>=1.20 in c:\\users\\scott\\appdata\\local\\anaconda3\\envs\\murach\\envs\\murach\\lib\\site-packages (from seaborn==0.13.2) (1.26.4)\n",
      "Requirement already satisfied: pandas>=1.2 in c:\\users\\scott\\appdata\\local\\anaconda3\\envs\\murach\\envs\\murach\\lib\\site-packages (from seaborn==0.13.2) (2.2.0)\n",
      "Collecting matplotlib!=3.6.1,>=3.4 (from seaborn==0.13.2)\n",
      "  Using cached matplotlib-3.8.3-cp311-cp311-win_amd64.whl.metadata (5.9 kB)\n",
      "Collecting contourpy>=1.0.1 (from matplotlib!=3.6.1,>=3.4->seaborn==0.13.2)\n",
      "  Using cached contourpy-1.2.0-cp311-cp311-win_amd64.whl.metadata (5.8 kB)\n",
      "Collecting cycler>=0.10 (from matplotlib!=3.6.1,>=3.4->seaborn==0.13.2)\n",
      "  Using cached cycler-0.12.1-py3-none-any.whl.metadata (3.8 kB)\n",
      "Collecting fonttools>=4.22.0 (from matplotlib!=3.6.1,>=3.4->seaborn==0.13.2)\n",
      "  Using cached fonttools-4.49.0-cp311-cp311-win_amd64.whl.metadata (162 kB)\n",
      "Collecting kiwisolver>=1.3.1 (from matplotlib!=3.6.1,>=3.4->seaborn==0.13.2)\n",
      "  Using cached kiwisolver-1.4.5-cp311-cp311-win_amd64.whl.metadata (6.5 kB)\n",
      "Requirement already satisfied: packaging>=20.0 in c:\\users\\scott\\appdata\\local\\anaconda3\\envs\\murach\\envs\\murach\\lib\\site-packages (from matplotlib!=3.6.1,>=3.4->seaborn==0.13.2) (23.1)\n",
      "Collecting pillow>=8 (from matplotlib!=3.6.1,>=3.4->seaborn==0.13.2)\n",
      "  Using cached pillow-10.2.0-cp311-cp311-win_amd64.whl.metadata (9.9 kB)\n",
      "Collecting pyparsing>=2.3.1 (from matplotlib!=3.6.1,>=3.4->seaborn==0.13.2)\n",
      "  Using cached pyparsing-3.1.1-py3-none-any.whl.metadata (5.1 kB)\n",
      "Requirement already satisfied: python-dateutil>=2.7 in c:\\users\\scott\\appdata\\local\\anaconda3\\envs\\murach\\envs\\murach\\lib\\site-packages (from matplotlib!=3.6.1,>=3.4->seaborn==0.13.2) (2.8.2)\n",
      "Requirement already satisfied: pytz>=2020.1 in c:\\users\\scott\\appdata\\local\\anaconda3\\envs\\murach\\envs\\murach\\lib\\site-packages (from pandas>=1.2->seaborn==0.13.2) (2023.3.post1)\n",
      "Requirement already satisfied: tzdata>=2022.7 in c:\\users\\scott\\appdata\\local\\anaconda3\\envs\\murach\\envs\\murach\\lib\\site-packages (from pandas>=1.2->seaborn==0.13.2) (2024.1)\n",
      "Requirement already satisfied: six>=1.5 in c:\\users\\scott\\appdata\\local\\anaconda3\\envs\\murach\\envs\\murach\\lib\\site-packages (from python-dateutil>=2.7->matplotlib!=3.6.1,>=3.4->seaborn==0.13.2) (1.16.0)\n",
      "Using cached seaborn-0.13.2-py3-none-any.whl (294 kB)\n",
      "Using cached matplotlib-3.8.3-cp311-cp311-win_amd64.whl (7.6 MB)\n",
      "Using cached contourpy-1.2.0-cp311-cp311-win_amd64.whl (187 kB)\n",
      "Using cached cycler-0.12.1-py3-none-any.whl (8.3 kB)\n",
      "Using cached fonttools-4.49.0-cp311-cp311-win_amd64.whl (2.2 MB)\n",
      "Using cached kiwisolver-1.4.5-cp311-cp311-win_amd64.whl (56 kB)\n",
      "Using cached pillow-10.2.0-cp311-cp311-win_amd64.whl (2.6 MB)\n",
      "Using cached pyparsing-3.1.1-py3-none-any.whl (103 kB)\n",
      "Installing collected packages: pyparsing, pillow, kiwisolver, fonttools, cycler, contourpy, matplotlib, seaborn\n",
      "Successfully installed contourpy-1.2.0 cycler-0.12.1 fonttools-4.49.0 kiwisolver-1.4.5 matplotlib-3.8.3 pillow-10.2.0 pyparsing-3.1.1 seaborn-0.13.2\n",
      "Note: you may need to restart the kernel to use updated packages.\n"
     ]
    }
   ],
   "source": [
    "pip install seaborn==0.13.2"
   ]
  },
  {
   "cell_type": "code",
   "execution_count": 6,
   "id": "4ff8dbfd-3e71-49ba-bfce-71b9370d0920",
   "metadata": {},
   "outputs": [
    {
     "name": "stdout",
     "output_type": "stream",
     "text": [
      "Collecting geopandas==0.14.3\n",
      "  Using cached geopandas-0.14.3-py3-none-any.whl.metadata (1.5 kB)\n",
      "Collecting fiona>=1.8.21 (from geopandas==0.14.3)\n",
      "  Using cached fiona-1.9.5-cp311-cp311-win_amd64.whl.metadata (51 kB)\n",
      "Requirement already satisfied: packaging in c:\\users\\scott\\appdata\\local\\anaconda3\\envs\\murach\\envs\\murach\\lib\\site-packages (from geopandas==0.14.3) (23.1)\n",
      "Requirement already satisfied: pandas>=1.4.0 in c:\\users\\scott\\appdata\\local\\anaconda3\\envs\\murach\\envs\\murach\\lib\\site-packages (from geopandas==0.14.3) (2.2.0)\n",
      "Collecting pyproj>=3.3.0 (from geopandas==0.14.3)\n",
      "  Using cached pyproj-3.6.1-cp311-cp311-win_amd64.whl.metadata (31 kB)\n",
      "Collecting shapely>=1.8.0 (from geopandas==0.14.3)\n",
      "  Using cached shapely-2.0.3-cp311-cp311-win_amd64.whl.metadata (7.2 kB)\n",
      "Requirement already satisfied: attrs>=19.2.0 in c:\\users\\scott\\appdata\\local\\anaconda3\\envs\\murach\\envs\\murach\\lib\\site-packages (from fiona>=1.8.21->geopandas==0.14.3) (23.1.0)\n",
      "Requirement already satisfied: certifi in c:\\users\\scott\\appdata\\local\\anaconda3\\envs\\murach\\envs\\murach\\lib\\site-packages (from fiona>=1.8.21->geopandas==0.14.3) (2024.2.2)\n",
      "Collecting click~=8.0 (from fiona>=1.8.21->geopandas==0.14.3)\n",
      "  Using cached click-8.1.7-py3-none-any.whl.metadata (3.0 kB)\n",
      "Collecting click-plugins>=1.0 (from fiona>=1.8.21->geopandas==0.14.3)\n",
      "  Using cached click_plugins-1.1.1-py2.py3-none-any.whl (7.5 kB)\n",
      "Collecting cligj>=0.5 (from fiona>=1.8.21->geopandas==0.14.3)\n",
      "  Using cached cligj-0.7.2-py3-none-any.whl (7.1 kB)\n",
      "Requirement already satisfied: six in c:\\users\\scott\\appdata\\local\\anaconda3\\envs\\murach\\envs\\murach\\lib\\site-packages (from fiona>=1.8.21->geopandas==0.14.3) (1.16.0)\n",
      "Requirement already satisfied: setuptools in c:\\users\\scott\\appdata\\local\\anaconda3\\envs\\murach\\envs\\murach\\lib\\site-packages (from fiona>=1.8.21->geopandas==0.14.3) (68.2.2)\n",
      "Requirement already satisfied: numpy<2,>=1.23.2 in c:\\users\\scott\\appdata\\local\\anaconda3\\envs\\murach\\envs\\murach\\lib\\site-packages (from pandas>=1.4.0->geopandas==0.14.3) (1.26.4)\n",
      "Requirement already satisfied: python-dateutil>=2.8.2 in c:\\users\\scott\\appdata\\local\\anaconda3\\envs\\murach\\envs\\murach\\lib\\site-packages (from pandas>=1.4.0->geopandas==0.14.3) (2.8.2)\n",
      "Requirement already satisfied: pytz>=2020.1 in c:\\users\\scott\\appdata\\local\\anaconda3\\envs\\murach\\envs\\murach\\lib\\site-packages (from pandas>=1.4.0->geopandas==0.14.3) (2023.3.post1)\n",
      "Requirement already satisfied: tzdata>=2022.7 in c:\\users\\scott\\appdata\\local\\anaconda3\\envs\\murach\\envs\\murach\\lib\\site-packages (from pandas>=1.4.0->geopandas==0.14.3) (2024.1)\n",
      "Requirement already satisfied: colorama in c:\\users\\scott\\appdata\\local\\anaconda3\\envs\\murach\\envs\\murach\\lib\\site-packages (from click~=8.0->fiona>=1.8.21->geopandas==0.14.3) (0.4.6)\n",
      "Using cached geopandas-0.14.3-py3-none-any.whl (1.1 MB)\n",
      "Using cached fiona-1.9.5-cp311-cp311-win_amd64.whl (22.9 MB)\n",
      "Using cached pyproj-3.6.1-cp311-cp311-win_amd64.whl (6.1 MB)\n",
      "Using cached shapely-2.0.3-cp311-cp311-win_amd64.whl (1.4 MB)\n",
      "Using cached click-8.1.7-py3-none-any.whl (97 kB)\n",
      "Installing collected packages: shapely, pyproj, click, cligj, click-plugins, fiona, geopandas\n",
      "Successfully installed click-8.1.7 click-plugins-1.1.1 cligj-0.7.2 fiona-1.9.5 geopandas-0.14.3 pyproj-3.6.1 shapely-2.0.3\n",
      "Note: you may need to restart the kernel to use updated packages.\n"
     ]
    }
   ],
   "source": [
    "pip install geopandas==0.14.3"
   ]
  },
  {
   "cell_type": "code",
   "execution_count": 12,
   "id": "c7537845-c883-4b69-9273-1fc0d95caa3c",
   "metadata": {},
   "outputs": [
    {
     "name": "stdout",
     "output_type": "stream",
     "text": [
      "Collecting scikit-learn==1.4.1.post1\n",
      "  Using cached scikit_learn-1.4.1.post1-cp311-cp311-win_amd64.whl.metadata (11 kB)\n",
      "Requirement already satisfied: numpy<2.0,>=1.19.5 in c:\\users\\scott\\appdata\\local\\anaconda3\\envs\\murach\\envs\\murach\\lib\\site-packages (from scikit-learn==1.4.1.post1) (1.26.4)\n",
      "Collecting scipy>=1.6.0 (from scikit-learn==1.4.1.post1)\n",
      "  Using cached scipy-1.12.0-cp311-cp311-win_amd64.whl.metadata (60 kB)\n",
      "Collecting joblib>=1.2.0 (from scikit-learn==1.4.1.post1)\n",
      "  Using cached joblib-1.3.2-py3-none-any.whl.metadata (5.4 kB)\n",
      "Collecting threadpoolctl>=2.0.0 (from scikit-learn==1.4.1.post1)\n",
      "  Using cached threadpoolctl-3.3.0-py3-none-any.whl.metadata (13 kB)\n",
      "Using cached scikit_learn-1.4.1.post1-cp311-cp311-win_amd64.whl (10.6 MB)\n",
      "Using cached joblib-1.3.2-py3-none-any.whl (302 kB)\n",
      "Using cached scipy-1.12.0-cp311-cp311-win_amd64.whl (46.2 MB)\n",
      "Using cached threadpoolctl-3.3.0-py3-none-any.whl (17 kB)\n",
      "Installing collected packages: threadpoolctl, scipy, joblib, scikit-learn\n",
      "Successfully installed joblib-1.3.2 scikit-learn-1.4.1.post1 scipy-1.12.0 threadpoolctl-3.3.0\n",
      "Note: you may need to restart the kernel to use updated packages.\n"
     ]
    }
   ],
   "source": [
    "pip install scikit-learn==1.4.1.post1"
   ]
  },
  {
   "cell_type": "code",
   "execution_count": 9,
   "id": "0b2e3f59-786a-4b8e-979d-6f9468510b5e",
   "metadata": {},
   "outputs": [
    {
     "name": "stdout",
     "output_type": "stream",
     "text": [
      "Collecting pyreadstat==1.2.6Note: you may need to restart the kernel to use updated packages.\n",
      "\n",
      "  Using cached pyreadstat-1.2.6-cp311-cp311-win_amd64.whl.metadata (1.1 kB)\n",
      "Requirement already satisfied: pandas>=1.2.0 in c:\\users\\scott\\appdata\\local\\anaconda3\\envs\\murach\\envs\\murach\\lib\\site-packages (from pyreadstat==1.2.6) (2.2.0)\n",
      "Requirement already satisfied: numpy<2,>=1.23.2 in c:\\users\\scott\\appdata\\local\\anaconda3\\envs\\murach\\envs\\murach\\lib\\site-packages (from pandas>=1.2.0->pyreadstat==1.2.6) (1.26.4)\n",
      "Requirement already satisfied: python-dateutil>=2.8.2 in c:\\users\\scott\\appdata\\local\\anaconda3\\envs\\murach\\envs\\murach\\lib\\site-packages (from pandas>=1.2.0->pyreadstat==1.2.6) (2.8.2)\n",
      "Requirement already satisfied: pytz>=2020.1 in c:\\users\\scott\\appdata\\local\\anaconda3\\envs\\murach\\envs\\murach\\lib\\site-packages (from pandas>=1.2.0->pyreadstat==1.2.6) (2023.3.post1)\n",
      "Requirement already satisfied: tzdata>=2022.7 in c:\\users\\scott\\appdata\\local\\anaconda3\\envs\\murach\\envs\\murach\\lib\\site-packages (from pandas>=1.2.0->pyreadstat==1.2.6) (2024.1)\n",
      "Requirement already satisfied: six>=1.5 in c:\\users\\scott\\appdata\\local\\anaconda3\\envs\\murach\\envs\\murach\\lib\\site-packages (from python-dateutil>=2.8.2->pandas>=1.2.0->pyreadstat==1.2.6) (1.16.0)\n",
      "Using cached pyreadstat-1.2.6-cp311-cp311-win_amd64.whl (2.4 MB)\n",
      "Installing collected packages: pyreadstat\n",
      "Successfully installed pyreadstat-1.2.6\n"
     ]
    }
   ],
   "source": [
    "pip install pyreadstat==1.2.6"
   ]
  },
  {
   "cell_type": "code",
   "execution_count": 10,
   "id": "3d1373c7-c4cc-44ab-9bcc-aa8876d22a5d",
   "metadata": {},
   "outputs": [
    {
     "name": "stdout",
     "output_type": "stream",
     "text": [
      "Collecting pyarrow==15.0.0\n",
      "  Using cached pyarrow-15.0.0-cp311-cp311-win_amd64.whl.metadata (3.1 kB)\n",
      "Requirement already satisfied: numpy<2,>=1.16.6 in c:\\users\\scott\\appdata\\local\\anaconda3\\envs\\murach\\envs\\murach\\lib\\site-packages (from pyarrow==15.0.0) (1.26.4)\n",
      "Using cached pyarrow-15.0.0-cp311-cp311-win_amd64.whl (24.8 MB)\n",
      "Installing collected packages: pyarrow\n",
      "Successfully installed pyarrow-15.0.0\n",
      "Note: you may need to restart the kernel to use updated packages.\n"
     ]
    }
   ],
   "source": [
    "pip install pyarrow==15.0.0"
   ]
  },
  {
   "cell_type": "code",
   "execution_count": 11,
   "id": "c73b480f-df6d-41fd-8095-50e76efc26c8",
   "metadata": {},
   "outputs": [
    {
     "name": "stdout",
     "output_type": "stream",
     "text": [
      "Collecting openpyxl==3.1.2\n",
      "  Using cached openpyxl-3.1.2-py2.py3-none-any.whl.metadata (2.5 kB)\n",
      "Collecting et-xmlfile (from openpyxl==3.1.2)\n",
      "  Using cached et_xmlfile-1.1.0-py3-none-any.whl (4.7 kB)\n",
      "Using cached openpyxl-3.1.2-py2.py3-none-any.whl (249 kB)\n",
      "Installing collected packages: et-xmlfile, openpyxl\n",
      "Successfully installed et-xmlfile-1.1.0 openpyxl-3.1.2\n",
      "Note: you may need to restart the kernel to use updated packages.\n"
     ]
    }
   ],
   "source": [
    "pip install openpyxl==3.1.2"
   ]
  },
  {
   "cell_type": "code",
   "execution_count": 1,
   "id": "5d651eda-6fd1-4af7-a2ba-8ce06f9f207b",
   "metadata": {},
   "outputs": [
    {
     "name": "stdout",
     "output_type": "stream",
     "text": [
      "Collecting statsmodels\n",
      "  Downloading statsmodels-0.14.1-cp311-cp311-win_amd64.whl.metadata (9.8 kB)\n",
      "Requirement already satisfied: numpy<2,>=1.18 in c:\\users\\scott\\appdata\\local\\anaconda3\\envs\\murach\\envs\\murach\\lib\\site-packages (from statsmodels) (1.26.4)\n",
      "Requirement already satisfied: scipy!=1.9.2,>=1.4 in c:\\users\\scott\\appdata\\local\\anaconda3\\envs\\murach\\envs\\murach\\lib\\site-packages (from statsmodels) (1.12.0)\n",
      "Requirement already satisfied: pandas!=2.1.0,>=1.0 in c:\\users\\scott\\appdata\\local\\anaconda3\\envs\\murach\\envs\\murach\\lib\\site-packages (from statsmodels) (2.2.0)\n",
      "Collecting patsy>=0.5.4 (from statsmodels)\n",
      "  Downloading patsy-0.5.6-py2.py3-none-any.whl.metadata (3.5 kB)\n",
      "Requirement already satisfied: packaging>=21.3 in c:\\users\\scott\\appdata\\local\\anaconda3\\envs\\murach\\envs\\murach\\lib\\site-packages (from statsmodels) (23.1)\n",
      "Requirement already satisfied: python-dateutil>=2.8.2 in c:\\users\\scott\\appdata\\local\\anaconda3\\envs\\murach\\envs\\murach\\lib\\site-packages (from pandas!=2.1.0,>=1.0->statsmodels) (2.8.2)\n",
      "Requirement already satisfied: pytz>=2020.1 in c:\\users\\scott\\appdata\\local\\anaconda3\\envs\\murach\\envs\\murach\\lib\\site-packages (from pandas!=2.1.0,>=1.0->statsmodels) (2023.3.post1)\n",
      "Requirement already satisfied: tzdata>=2022.7 in c:\\users\\scott\\appdata\\local\\anaconda3\\envs\\murach\\envs\\murach\\lib\\site-packages (from pandas!=2.1.0,>=1.0->statsmodels) (2024.1)\n",
      "Requirement already satisfied: six in c:\\users\\scott\\appdata\\local\\anaconda3\\envs\\murach\\envs\\murach\\lib\\site-packages (from patsy>=0.5.4->statsmodels) (1.16.0)\n",
      "Downloading statsmodels-0.14.1-cp311-cp311-win_amd64.whl (9.9 MB)\n",
      "   ---------------------------------------- 0.0/9.9 MB ? eta -:--:--\n",
      "   - -------------------------------------- 0.3/9.9 MB 5.9 MB/s eta 0:00:02\n",
      "   --- ------------------------------------ 0.8/9.9 MB 8.6 MB/s eta 0:00:02\n",
      "   --------- ------------------------------ 2.3/9.9 MB 18.1 MB/s eta 0:00:01\n",
      "   --------------- ------------------------ 3.8/9.9 MB 21.8 MB/s eta 0:00:01\n",
      "   --------------------- ------------------ 5.3/9.9 MB 24.3 MB/s eta 0:00:01\n",
      "   --------------------------- ------------ 6.9/9.9 MB 27.4 MB/s eta 0:00:01\n",
      "   ---------------------------------- ----- 8.4/9.9 MB 28.2 MB/s eta 0:00:01\n",
      "   ---------------------------------------  9.7/9.9 MB 29.7 MB/s eta 0:00:01\n",
      "   ---------------------------------------  9.9/9.9 MB 28.6 MB/s eta 0:00:01\n",
      "   ---------------------------------------  9.9/9.9 MB 28.6 MB/s eta 0:00:01\n",
      "   ---------------------------------------  9.9/9.9 MB 28.6 MB/s eta 0:00:01\n",
      "   ---------------------------------------  9.9/9.9 MB 28.6 MB/s eta 0:00:01\n",
      "   ---------------------------------------  9.9/9.9 MB 28.6 MB/s eta 0:00:01\n",
      "   ---------------------------------------  9.9/9.9 MB 28.6 MB/s eta 0:00:01\n",
      "   ---------------------------------------  9.9/9.9 MB 28.6 MB/s eta 0:00:01\n",
      "   ---------------------------------------  9.9/9.9 MB 28.6 MB/s eta 0:00:01\n",
      "   ---------------------------------------  9.9/9.9 MB 28.6 MB/s eta 0:00:01\n",
      "   ---------------------------------------  9.9/9.9 MB 28.6 MB/s eta 0:00:01\n",
      "   ---------------------------------------  9.9/9.9 MB 28.6 MB/s eta 0:00:01\n",
      "   ---------------------------------------- 9.9/9.9 MB 11.9 MB/s eta 0:00:00\n",
      "Downloading patsy-0.5.6-py2.py3-none-any.whl (233 kB)\n",
      "   ---------------------------------------- 0.0/233.9 kB ? eta -:--:--\n",
      "   ---------------------------------------- 233.9/233.9 kB 7.0 MB/s eta 0:00:00\n",
      "Installing collected packages: patsy, statsmodels\n",
      "Successfully installed patsy-0.5.6 statsmodels-0.14.1\n",
      "Note: you may need to restart the kernel to use updated packages.\n"
     ]
    }
   ],
   "source": [
    "pip install statsmodels==0.14.1"
   ]
  },
  {
   "cell_type": "code",
   "execution_count": null,
   "id": "ece465c7-c1a8-4272-9c46-8404c976c4e6",
   "metadata": {},
   "outputs": [],
   "source": []
  }
 ],
 "metadata": {
  "kernelspec": {
   "display_name": "Python 3 (ipykernel)",
   "language": "python",
   "name": "python3"
  },
  "language_info": {
   "codemirror_mode": {
    "name": "ipython",
    "version": 3
   },
   "file_extension": ".py",
   "mimetype": "text/x-python",
   "name": "python",
   "nbconvert_exporter": "python",
   "pygments_lexer": "ipython3",
   "version": "3.11.7"
  }
 },
 "nbformat": 4,
 "nbformat_minor": 5
}
