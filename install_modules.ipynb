{
 "cells": [
  {
   "cell_type": "code",
   "execution_count": null,
   "id": "c7e1dbcf-25ef-4c7f-a9e4-824acd5d1eea",
   "metadata": {},
   "outputs": [],
   "source": [
    "pip install numpy==1.26.4"
   ]
  },
  {
   "cell_type": "code",
   "execution_count": null,
   "id": "3a3223e6-04f8-4178-8448-eaceefe7edfa",
   "metadata": {},
   "outputs": [],
   "source": [
    "pip install urllib3==2.1.0"
   ]
  },
  {
   "cell_type": "code",
   "execution_count": null,
   "id": "49a64a81-8a1d-422b-a4e5-aebc1bf55aea",
   "metadata": {},
   "outputs": [],
   "source": [
    "pip install datetime==5.4"
   ]
  },
  {
   "cell_type": "code",
   "execution_count": null,
   "id": "84887a6c-9073-46fb-85a0-33e88875ae1e",
   "metadata": {},
   "outputs": [],
   "source": [
    "pip install pandas==2.2.0"
   ]
  },
  {
   "cell_type": "code",
   "execution_count": null,
   "id": "d347a7dc-2a7f-423a-9217-75be87704574",
   "metadata": {},
   "outputs": [],
   "source": [
    "pip install seaborn==0.13.2"
   ]
  },
  {
   "cell_type": "code",
   "execution_count": null,
   "id": "4ff8dbfd-3e71-49ba-bfce-71b9370d0920",
   "metadata": {},
   "outputs": [],
   "source": [
    "pip install geopandas==0.14.3"
   ]
  },
  {
   "cell_type": "code",
   "execution_count": null,
   "id": "c7537845-c883-4b69-9273-1fc0d95caa3c",
   "metadata": {},
   "outputs": [],
   "source": [
    "pip install scikit-learn==1.4.1.post1"
   ]
  },
  {
   "cell_type": "code",
   "execution_count": null,
   "id": "0b2e3f59-786a-4b8e-979d-6f9468510b5e",
   "metadata": {},
   "outputs": [],
   "source": [
    "pip install pyreadstat==1.2.6"
   ]
  },
  {
   "cell_type": "code",
   "execution_count": null,
   "id": "3d1373c7-c4cc-44ab-9bcc-aa8876d22a5d",
   "metadata": {},
   "outputs": [],
   "source": [
    "pip install pyarrow==15.0.0"
   ]
  },
  {
   "cell_type": "code",
   "execution_count": null,
   "id": "c73b480f-df6d-41fd-8095-50e76efc26c8",
   "metadata": {},
   "outputs": [],
   "source": [
    "pip install openpyxl==3.1.2"
   ]
  },
  {
   "cell_type": "code",
   "execution_count": null,
   "id": "5d651eda-6fd1-4af7-a2ba-8ce06f9f207b",
   "metadata": {},
   "outputs": [],
   "source": [
    "pip install statsmodels==0.14.1"
   ]
  },
  {
   "cell_type": "code",
   "execution_count": null,
   "id": "ece465c7-c1a8-4272-9c46-8404c976c4e6",
   "metadata": {},
   "outputs": [],
   "source": []
  }
 ],
 "metadata": {
  "kernelspec": {
   "display_name": "Python 3",
   "language": "python",
   "name": "python3"
  },
  "language_info": {
   "codemirror_mode": {
    "name": "ipython",
    "version": 3
   },
   "file_extension": ".py",
   "mimetype": "text/x-python",
   "name": "python",
   "nbconvert_exporter": "python",
   "pygments_lexer": "ipython3",
   "version": "3.13.7"
  }
 },
 "nbformat": 4,
 "nbformat_minor": 5
}
