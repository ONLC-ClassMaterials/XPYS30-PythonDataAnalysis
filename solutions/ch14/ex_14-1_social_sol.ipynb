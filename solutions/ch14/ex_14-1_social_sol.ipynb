{
 "cells": [
  {
   "cell_type": "markdown",
   "metadata": {},
   "source": [
    "# Exercise 14-1: More analysis of the Social Survey data - Solution"
   ]
  },
  {
   "cell_type": "markdown",
   "metadata": {},
   "source": [
    "## Get the data"
   ]
  },
  {
   "cell_type": "code",
   "execution_count": 1,
   "metadata": {
    "tags": []
   },
   "outputs": [],
   "source": [
    "import pandas as pd\n",
    "import seaborn as sns"
   ]
  },
  {
   "cell_type": "code",
   "execution_count": 2,
   "metadata": {},
   "outputs": [],
   "source": [
    "# read codebook pages 2715 & 2768"
   ]
  },
  {
   "cell_type": "code",
   "execution_count": 3,
   "metadata": {},
   "outputs": [],
   "source": [
    "socialMedia = pd.read_stata('../../../data/GSS7218_R3.DTA', \n",
    "                            columns=['id','snsmyear','intwkdyh','intwkdym','intwkenh','intwkenm'])"
   ]
  },
  {
   "cell_type": "code",
   "execution_count": 4,
   "metadata": {},
   "outputs": [],
   "source": [
    "mentalHealth = pd.read_stata('../../../data/GSS7218_R3.DTA', \n",
    "                             columns=['id','cesd1','cesd2','cesd3','cesd4','cesd5'])"
   ]
  },
  {
   "cell_type": "code",
   "execution_count": 5,
   "metadata": {},
   "outputs": [],
   "source": [
    "socialMedia = socialMedia.dropna()\n",
    "socialMedia = socialMedia.set_index('id')"
   ]
  },
  {
   "cell_type": "code",
   "execution_count": 6,
   "metadata": {},
   "outputs": [],
   "source": [
    "mentalHealth = mentalHealth.dropna()\n",
    "mentalHealth = mentalHealth.set_index('id')"
   ]
  },
  {
   "cell_type": "code",
   "execution_count": 7,
   "metadata": {},
   "outputs": [],
   "source": [
    "socialHealth = socialMedia.join(mentalHealth, how='inner').dropna()"
   ]
  },
  {
   "cell_type": "code",
   "execution_count": 8,
   "metadata": {},
   "outputs": [
    {
     "data": {
      "text/html": [
       "<div>\n",
       "<style scoped>\n",
       "    .dataframe tbody tr th:only-of-type {\n",
       "        vertical-align: middle;\n",
       "    }\n",
       "\n",
       "    .dataframe tbody tr th {\n",
       "        vertical-align: top;\n",
       "    }\n",
       "\n",
       "    .dataframe thead th {\n",
       "        text-align: right;\n",
       "    }\n",
       "</style>\n",
       "<table border=\"1\" class=\"dataframe\">\n",
       "  <thead>\n",
       "    <tr style=\"text-align: right;\">\n",
       "      <th></th>\n",
       "      <th>snsmyear</th>\n",
       "      <th>intwkdyh</th>\n",
       "      <th>intwkdym</th>\n",
       "      <th>intwkenh</th>\n",
       "      <th>intwkenm</th>\n",
       "      <th>cesd1</th>\n",
       "      <th>cesd2</th>\n",
       "      <th>cesd3</th>\n",
       "      <th>cesd4</th>\n",
       "      <th>cesd5</th>\n",
       "    </tr>\n",
       "    <tr>\n",
       "      <th>id</th>\n",
       "      <th></th>\n",
       "      <th></th>\n",
       "      <th></th>\n",
       "      <th></th>\n",
       "      <th></th>\n",
       "      <th></th>\n",
       "      <th></th>\n",
       "      <th></th>\n",
       "      <th></th>\n",
       "      <th></th>\n",
       "    </tr>\n",
       "  </thead>\n",
       "  <tbody>\n",
       "    <tr>\n",
       "      <th>5</th>\n",
       "      <td>2016.0</td>\n",
       "      <td>1.0</td>\n",
       "      <td>0.0</td>\n",
       "      <td>1.0</td>\n",
       "      <td>0.0</td>\n",
       "      <td>none or almost none of the time</td>\n",
       "      <td>some of the time</td>\n",
       "      <td>most of the time</td>\n",
       "      <td>none or almost none of the time</td>\n",
       "      <td>some of the time</td>\n",
       "    </tr>\n",
       "    <tr>\n",
       "      <th>8</th>\n",
       "      <td>2010.0</td>\n",
       "      <td>2.0</td>\n",
       "      <td>0.0</td>\n",
       "      <td>3.0</td>\n",
       "      <td>0.0</td>\n",
       "      <td>none or almost none of the time</td>\n",
       "      <td>some of the time</td>\n",
       "      <td>all or almost all of the time</td>\n",
       "      <td>none or almost none of the time</td>\n",
       "      <td>some of the time</td>\n",
       "    </tr>\n",
       "    <tr>\n",
       "      <th>10</th>\n",
       "      <td>2011.0</td>\n",
       "      <td>6.0</td>\n",
       "      <td>0.0</td>\n",
       "      <td>5.0</td>\n",
       "      <td>0.0</td>\n",
       "      <td>none or almost none of the time</td>\n",
       "      <td>some of the time</td>\n",
       "      <td>most of the time</td>\n",
       "      <td>none or almost none of the time</td>\n",
       "      <td>none or almost none of the time</td>\n",
       "    </tr>\n",
       "    <tr>\n",
       "      <th>22</th>\n",
       "      <td>2009.0</td>\n",
       "      <td>1.0</td>\n",
       "      <td>0.0</td>\n",
       "      <td>2.0</td>\n",
       "      <td>0.0</td>\n",
       "      <td>none or almost none of the time</td>\n",
       "      <td>none or almost none of the time</td>\n",
       "      <td>most of the time</td>\n",
       "      <td>none or almost none of the time</td>\n",
       "      <td>none or almost none of the time</td>\n",
       "    </tr>\n",
       "    <tr>\n",
       "      <th>25</th>\n",
       "      <td>2007.0</td>\n",
       "      <td>10.0</td>\n",
       "      <td>0.0</td>\n",
       "      <td>8.0</td>\n",
       "      <td>0.0</td>\n",
       "      <td>none or almost none of the time</td>\n",
       "      <td>some of the time</td>\n",
       "      <td>most of the time</td>\n",
       "      <td>some of the time</td>\n",
       "      <td>some of the time</td>\n",
       "    </tr>\n",
       "  </tbody>\n",
       "</table>\n",
       "</div>"
      ],
      "text/plain": [
       "   snsmyear intwkdyh intwkdym intwkenh intwkenm  \\\n",
       "id                                                \n",
       "5    2016.0      1.0      0.0      1.0      0.0   \n",
       "8    2010.0      2.0      0.0      3.0      0.0   \n",
       "10   2011.0      6.0      0.0      5.0      0.0   \n",
       "22   2009.0      1.0      0.0      2.0      0.0   \n",
       "25   2007.0     10.0      0.0      8.0      0.0   \n",
       "\n",
       "                              cesd1                            cesd2  \\\n",
       "id                                                                     \n",
       "5   none or almost none of the time                 some of the time   \n",
       "8   none or almost none of the time                 some of the time   \n",
       "10  none or almost none of the time                 some of the time   \n",
       "22  none or almost none of the time  none or almost none of the time   \n",
       "25  none or almost none of the time                 some of the time   \n",
       "\n",
       "                            cesd3                            cesd4  \\\n",
       "id                                                                   \n",
       "5                most of the time  none or almost none of the time   \n",
       "8   all or almost all of the time  none or almost none of the time   \n",
       "10               most of the time  none or almost none of the time   \n",
       "22               most of the time  none or almost none of the time   \n",
       "25               most of the time                 some of the time   \n",
       "\n",
       "                              cesd5  \n",
       "id                                   \n",
       "5                  some of the time  \n",
       "8                  some of the time  \n",
       "10  none or almost none of the time  \n",
       "22  none or almost none of the time  \n",
       "25                 some of the time  "
      ]
     },
     "execution_count": 8,
     "metadata": {},
     "output_type": "execute_result"
    }
   ],
   "source": [
    "socialHealth.head()"
   ]
  },
  {
   "cell_type": "code",
   "execution_count": 9,
   "metadata": {},
   "outputs": [
    {
     "name": "stdout",
     "output_type": "stream",
     "text": [
      "<class 'pandas.core.frame.DataFrame'>\n",
      "Index: 544 entries, 5 to 2867\n",
      "Data columns (total 10 columns):\n",
      " #   Column    Non-Null Count  Dtype   \n",
      "---  ------    --------------  -----   \n",
      " 0   snsmyear  544 non-null    category\n",
      " 1   intwkdyh  544 non-null    category\n",
      " 2   intwkdym  544 non-null    category\n",
      " 3   intwkenh  544 non-null    category\n",
      " 4   intwkenm  544 non-null    category\n",
      " 5   cesd1     544 non-null    category\n",
      " 6   cesd2     544 non-null    category\n",
      " 7   cesd3     544 non-null    category\n",
      " 8   cesd4     544 non-null    category\n",
      " 9   cesd5     544 non-null    category\n",
      "dtypes: category(10)\n",
      "memory usage: 11.3 KB\n"
     ]
    }
   ],
   "source": [
    "socialHealth.info()"
   ]
  },
  {
   "cell_type": "markdown",
   "metadata": {},
   "source": [
    "## Clean and prepare the data"
   ]
  },
  {
   "cell_type": "code",
   "execution_count": 10,
   "metadata": {},
   "outputs": [],
   "source": [
    "socialHealth = socialHealth.rename(columns={'snsmyear':'yearAquired', \n",
    "                             'intwkdyh':'weekdayHours', \n",
    "                             'intwkdym':'weekdayMinutes', \n",
    "                             'intwkenh':'weekendHours', \n",
    "                             'intwkenm':'weekendMinutes', \n",
    "                             'cesd1':'depressed', \n",
    "                             'cesd2':'restlessSleep', \n",
    "                             'cesd3':'happy', \n",
    "                             'cesd4':'lonely', \n",
    "                             'cesd5':'sad'})\n",
    "                    "
   ]
  },
  {
   "cell_type": "code",
   "execution_count": 11,
   "metadata": {},
   "outputs": [
    {
     "data": {
      "text/plain": [
       "weekdayMinutes\n",
       "0.0     451\n",
       "30.0     67\n",
       "15.0      8\n",
       "20.0      8\n",
       "45.0      5\n",
       "10.0      3\n",
       "2.0       1\n",
       "59.0      1\n",
       "1.0       0\n",
       "3.0       0\n",
       "5.0       0\n",
       "25.0      0\n",
       "40.0      0\n",
       "55.0      0\n",
       "Name: count, dtype: int64"
      ]
     },
     "execution_count": 11,
     "metadata": {},
     "output_type": "execute_result"
    }
   ],
   "source": [
    "socialHealth.weekdayMinutes.value_counts()"
   ]
  },
  {
   "cell_type": "code",
   "execution_count": 12,
   "metadata": {},
   "outputs": [
    {
     "data": {
      "text/plain": [
       "weekendMinutes\n",
       "0.0     448\n",
       "30.0     61\n",
       "10.0      7\n",
       "15.0      7\n",
       "45.0      7\n",
       "20.0      6\n",
       "3.0       2\n",
       "5.0       2\n",
       "40.0      2\n",
       "1.0       1\n",
       "59.0      1\n",
       "25.0      0\n",
       "35.0      0\n",
       "50.0      0\n",
       "Name: count, dtype: int64"
      ]
     },
     "execution_count": 12,
     "metadata": {},
     "output_type": "execute_result"
    }
   ],
   "source": [
    "socialHealth.weekendMinutes.value_counts()"
   ]
  },
  {
   "cell_type": "code",
   "execution_count": 13,
   "metadata": {},
   "outputs": [],
   "source": [
    "socialHealth = socialHealth.query(\n",
    "    'weekdayMinutes in [0,15,30,45] and weekendMinutes in [0,15,30,45]').copy()"
   ]
  },
  {
   "cell_type": "code",
   "execution_count": 14,
   "metadata": {},
   "outputs": [],
   "source": [
    "socialHealth.yearAquired = socialHealth.yearAquired.astype(int)\n",
    "socialHealth.weekdayHours = socialHealth.weekdayHours.astype(int)\n",
    "socialHealth.weekdayMinutes = socialHealth.weekdayMinutes.astype(int)\n",
    "socialHealth.weekendHours = socialHealth.weekendHours.astype(int)\n",
    "socialHealth.weekendMinutes = socialHealth.weekendMinutes.astype(int)"
   ]
  },
  {
   "cell_type": "code",
   "execution_count": 15,
   "metadata": {},
   "outputs": [],
   "source": [
    "socialHealth.weekdayHours = socialHealth.weekdayHours + (socialHealth.weekdayMinutes / 60)\n",
    "socialHealth.weekendHours = socialHealth.weekendHours + (socialHealth.weekendMinutes / 60)"
   ]
  },
  {
   "cell_type": "code",
   "execution_count": 16,
   "metadata": {},
   "outputs": [],
   "source": [
    "socialHealth = socialHealth.drop(columns=['weekdayMinutes','weekendMinutes'])"
   ]
  },
  {
   "cell_type": "code",
   "execution_count": 17,
   "metadata": {},
   "outputs": [
    {
     "data": {
      "text/html": [
       "<div>\n",
       "<style scoped>\n",
       "    .dataframe tbody tr th:only-of-type {\n",
       "        vertical-align: middle;\n",
       "    }\n",
       "\n",
       "    .dataframe tbody tr th {\n",
       "        vertical-align: top;\n",
       "    }\n",
       "\n",
       "    .dataframe thead th {\n",
       "        text-align: right;\n",
       "    }\n",
       "</style>\n",
       "<table border=\"1\" class=\"dataframe\">\n",
       "  <thead>\n",
       "    <tr style=\"text-align: right;\">\n",
       "      <th></th>\n",
       "      <th>yearAquired</th>\n",
       "      <th>weekdayHours</th>\n",
       "      <th>weekendHours</th>\n",
       "      <th>depressed</th>\n",
       "      <th>restlessSleep</th>\n",
       "      <th>happy</th>\n",
       "      <th>lonely</th>\n",
       "      <th>sad</th>\n",
       "    </tr>\n",
       "    <tr>\n",
       "      <th>id</th>\n",
       "      <th></th>\n",
       "      <th></th>\n",
       "      <th></th>\n",
       "      <th></th>\n",
       "      <th></th>\n",
       "      <th></th>\n",
       "      <th></th>\n",
       "      <th></th>\n",
       "    </tr>\n",
       "  </thead>\n",
       "  <tbody>\n",
       "    <tr>\n",
       "      <th>5</th>\n",
       "      <td>2016</td>\n",
       "      <td>1.0</td>\n",
       "      <td>1.0</td>\n",
       "      <td>none or almost none of the time</td>\n",
       "      <td>some of the time</td>\n",
       "      <td>most of the time</td>\n",
       "      <td>none or almost none of the time</td>\n",
       "      <td>some of the time</td>\n",
       "    </tr>\n",
       "    <tr>\n",
       "      <th>8</th>\n",
       "      <td>2010</td>\n",
       "      <td>2.0</td>\n",
       "      <td>3.0</td>\n",
       "      <td>none or almost none of the time</td>\n",
       "      <td>some of the time</td>\n",
       "      <td>all or almost all of the time</td>\n",
       "      <td>none or almost none of the time</td>\n",
       "      <td>some of the time</td>\n",
       "    </tr>\n",
       "    <tr>\n",
       "      <th>10</th>\n",
       "      <td>2011</td>\n",
       "      <td>6.0</td>\n",
       "      <td>5.0</td>\n",
       "      <td>none or almost none of the time</td>\n",
       "      <td>some of the time</td>\n",
       "      <td>most of the time</td>\n",
       "      <td>none or almost none of the time</td>\n",
       "      <td>none or almost none of the time</td>\n",
       "    </tr>\n",
       "    <tr>\n",
       "      <th>22</th>\n",
       "      <td>2009</td>\n",
       "      <td>1.0</td>\n",
       "      <td>2.0</td>\n",
       "      <td>none or almost none of the time</td>\n",
       "      <td>none or almost none of the time</td>\n",
       "      <td>most of the time</td>\n",
       "      <td>none or almost none of the time</td>\n",
       "      <td>none or almost none of the time</td>\n",
       "    </tr>\n",
       "    <tr>\n",
       "      <th>25</th>\n",
       "      <td>2007</td>\n",
       "      <td>10.0</td>\n",
       "      <td>8.0</td>\n",
       "      <td>none or almost none of the time</td>\n",
       "      <td>some of the time</td>\n",
       "      <td>most of the time</td>\n",
       "      <td>some of the time</td>\n",
       "      <td>some of the time</td>\n",
       "    </tr>\n",
       "  </tbody>\n",
       "</table>\n",
       "</div>"
      ],
      "text/plain": [
       "    yearAquired  weekdayHours  weekendHours                        depressed  \\\n",
       "id                                                                             \n",
       "5          2016           1.0           1.0  none or almost none of the time   \n",
       "8          2010           2.0           3.0  none or almost none of the time   \n",
       "10         2011           6.0           5.0  none or almost none of the time   \n",
       "22         2009           1.0           2.0  none or almost none of the time   \n",
       "25         2007          10.0           8.0  none or almost none of the time   \n",
       "\n",
       "                      restlessSleep                          happy  \\\n",
       "id                                                                   \n",
       "5                  some of the time               most of the time   \n",
       "8                  some of the time  all or almost all of the time   \n",
       "10                 some of the time               most of the time   \n",
       "22  none or almost none of the time               most of the time   \n",
       "25                 some of the time               most of the time   \n",
       "\n",
       "                             lonely                              sad  \n",
       "id                                                                    \n",
       "5   none or almost none of the time                 some of the time  \n",
       "8   none or almost none of the time                 some of the time  \n",
       "10  none or almost none of the time  none or almost none of the time  \n",
       "22  none or almost none of the time  none or almost none of the time  \n",
       "25                 some of the time                 some of the time  "
      ]
     },
     "execution_count": 17,
     "metadata": {},
     "output_type": "execute_result"
    }
   ],
   "source": [
    "socialHealth.head()"
   ]
  },
  {
   "cell_type": "markdown",
   "metadata": {},
   "source": [
    "## Test a hypothesis"
   ]
  },
  {
   "cell_type": "markdown",
   "metadata": {},
   "source": [
    "#### Hypothesis: More weekday social media use is correlated with lower sleep quality."
   ]
  },
  {
   "cell_type": "code",
   "execution_count": 18,
   "metadata": {},
   "outputs": [
    {
     "data": {
      "image/png": "[encoded data removed]",
      "text/plain": [
       "<Figure size 511.111x500 with 1 Axes>"
      ]
     },
     "metadata": {},
     "output_type": "display_data"
    }
   ],
   "source": [
    "g = sns.catplot(data=socialHealth, x='restlessSleep', y='weekdayHours', kind='box')\n",
    "\n",
    "for ax in g.axes.flat:\n",
    "    ax.tick_params('x',labelrotation=90)"
   ]
  },
  {
   "cell_type": "code",
   "execution_count": 19,
   "metadata": {},
   "outputs": [],
   "source": [
    "socialHealth['weekdayHoursBin'] = pd.cut(socialHealth.weekdayHours, \n",
    "                                           bins=[0,3,6,9,12,15], \n",
    "                                           labels=['0-3','3-6','6-9','9-12','12-15'], \n",
    "                                           right=False)"
   ]
  },
  {
   "cell_type": "code",
   "execution_count": 20,
   "metadata": {},
   "outputs": [
    {
     "data": {
      "text/plain": [
       "weekdayHoursBin  restlessSleep                  \n",
       "0-3              none or almost none of the time     94\n",
       "                 some of the time                   122\n",
       "                 most of the time                    49\n",
       "                 all or almost all of the time       24\n",
       "3-6              none or almost none of the time     28\n",
       "                 some of the time                    61\n",
       "                 most of the time                    27\n",
       "                 all or almost all of the time       11\n",
       "6-9              none or almost none of the time     22\n",
       "                 some of the time                    20\n",
       "                 most of the time                     8\n",
       "                 all or almost all of the time        4\n",
       "9-12             none or almost none of the time      9\n",
       "                 some of the time                    11\n",
       "                 most of the time                     2\n",
       "                 all or almost all of the time        1\n",
       "12-15            none or almost none of the time      2\n",
       "                 some of the time                     5\n",
       "                 most of the time                     8\n",
       "                 all or almost all of the time        4\n",
       "Name: count, dtype: int64"
      ]
     },
     "execution_count": 20,
     "metadata": {},
     "output_type": "execute_result"
    }
   ],
   "source": [
    "socialHealth[['weekdayHoursBin','restlessSleep']].value_counts(sort=False)"
   ]
  },
  {
   "cell_type": "code",
   "execution_count": 21,
   "metadata": {},
   "outputs": [
    {
     "data": {
      "text/plain": [
       "<seaborn.axisgrid.FacetGrid at 0x21b3c72a950>"
      ]
     },
     "execution_count": 21,
     "metadata": {},
     "output_type": "execute_result"
    },
    {
     "data": {
      "image/png": "[encoded data removed]",
      "text/plain": [
       "<Figure size 774.25x500 with 1 Axes>"
      ]
     },
     "metadata": {},
     "output_type": "display_data"
    }
   ],
   "source": [
    "sns.catplot(data=socialHealth, kind='count', \n",
    "            x='weekdayHoursBin', hue='restlessSleep')"
   ]
  },
  {
   "cell_type": "code",
   "execution_count": 22,
   "metadata": {},
   "outputs": [
    {
     "data": {
      "text/html": [
       "<div>\n",
       "<style scoped>\n",
       "    .dataframe tbody tr th:only-of-type {\n",
       "        vertical-align: middle;\n",
       "    }\n",
       "\n",
       "    .dataframe tbody tr th {\n",
       "        vertical-align: top;\n",
       "    }\n",
       "\n",
       "    .dataframe thead th {\n",
       "        text-align: right;\n",
       "    }\n",
       "</style>\n",
       "<table border=\"1\" class=\"dataframe\">\n",
       "  <thead>\n",
       "    <tr style=\"text-align: right;\">\n",
       "      <th></th>\n",
       "      <th></th>\n",
       "      <th>proportion</th>\n",
       "    </tr>\n",
       "    <tr>\n",
       "      <th>weekdayHoursBin</th>\n",
       "      <th>restlessSleep</th>\n",
       "      <th></th>\n",
       "    </tr>\n",
       "  </thead>\n",
       "  <tbody>\n",
       "    <tr>\n",
       "      <th rowspan=\"4\" valign=\"top\">0-3</th>\n",
       "      <th>some of the time</th>\n",
       "      <td>0.422145</td>\n",
       "    </tr>\n",
       "    <tr>\n",
       "      <th>none or almost none of the time</th>\n",
       "      <td>0.325260</td>\n",
       "    </tr>\n",
       "    <tr>\n",
       "      <th>most of the time</th>\n",
       "      <td>0.169550</td>\n",
       "    </tr>\n",
       "    <tr>\n",
       "      <th>all or almost all of the time</th>\n",
       "      <td>0.083045</td>\n",
       "    </tr>\n",
       "    <tr>\n",
       "      <th>3-6</th>\n",
       "      <th>some of the time</th>\n",
       "      <td>0.480315</td>\n",
       "    </tr>\n",
       "  </tbody>\n",
       "</table>\n",
       "</div>"
      ],
      "text/plain": [
       "                                                 proportion\n",
       "weekdayHoursBin restlessSleep                              \n",
       "0-3             some of the time                   0.422145\n",
       "                none or almost none of the time    0.325260\n",
       "                most of the time                   0.169550\n",
       "                all or almost all of the time      0.083045\n",
       "3-6             some of the time                   0.480315"
      ]
     },
     "execution_count": 22,
     "metadata": {},
     "output_type": "execute_result"
    }
   ],
   "source": [
    "hoursGrouped = socialHealth.groupby('weekdayHoursBin', observed=True).restlessSleep.value_counts(\n",
    "    normalize=True).to_frame()\n",
    "hoursGrouped.head()"
   ]
  },
  {
   "cell_type": "code",
   "execution_count": 23,
   "metadata": {},
   "outputs": [
    {
     "data": {
      "text/html": [
       "<div>\n",
       "<style scoped>\n",
       "    .dataframe tbody tr th:only-of-type {\n",
       "        vertical-align: middle;\n",
       "    }\n",
       "\n",
       "    .dataframe tbody tr th {\n",
       "        vertical-align: top;\n",
       "    }\n",
       "\n",
       "    .dataframe thead th {\n",
       "        text-align: right;\n",
       "    }\n",
       "</style>\n",
       "<table border=\"1\" class=\"dataframe\">\n",
       "  <thead>\n",
       "    <tr style=\"text-align: right;\">\n",
       "      <th></th>\n",
       "      <th>weekdayHoursBin</th>\n",
       "      <th>restlessSleep</th>\n",
       "      <th>percentage</th>\n",
       "    </tr>\n",
       "  </thead>\n",
       "  <tbody>\n",
       "    <tr>\n",
       "      <th>0</th>\n",
       "      <td>0-3</td>\n",
       "      <td>some of the time</td>\n",
       "      <td>0.422145</td>\n",
       "    </tr>\n",
       "    <tr>\n",
       "      <th>1</th>\n",
       "      <td>0-3</td>\n",
       "      <td>none or almost none of the time</td>\n",
       "      <td>0.325260</td>\n",
       "    </tr>\n",
       "    <tr>\n",
       "      <th>2</th>\n",
       "      <td>0-3</td>\n",
       "      <td>most of the time</td>\n",
       "      <td>0.169550</td>\n",
       "    </tr>\n",
       "    <tr>\n",
       "      <th>3</th>\n",
       "      <td>0-3</td>\n",
       "      <td>all or almost all of the time</td>\n",
       "      <td>0.083045</td>\n",
       "    </tr>\n",
       "    <tr>\n",
       "      <th>4</th>\n",
       "      <td>3-6</td>\n",
       "      <td>some of the time</td>\n",
       "      <td>0.480315</td>\n",
       "    </tr>\n",
       "  </tbody>\n",
       "</table>\n",
       "</div>"
      ],
      "text/plain": [
       "  weekdayHoursBin                    restlessSleep  percentage\n",
       "0             0-3                 some of the time    0.422145\n",
       "1             0-3  none or almost none of the time    0.325260\n",
       "2             0-3                 most of the time    0.169550\n",
       "3             0-3    all or almost all of the time    0.083045\n",
       "4             3-6                 some of the time    0.480315"
      ]
     },
     "execution_count": 23,
     "metadata": {},
     "output_type": "execute_result"
    }
   ],
   "source": [
    "hoursGrouped.columns = ['percentage']\n",
    "hoursGrouped = hoursGrouped.reset_index()\n",
    "hoursGrouped.head()"
   ]
  },
  {
   "cell_type": "code",
   "execution_count": 24,
   "metadata": {},
   "outputs": [
    {
     "data": {
      "text/plain": [
       "<seaborn.axisgrid.FacetGrid at 0x21b5758ca50>"
      ]
     },
     "execution_count": 24,
     "metadata": {},
     "output_type": "execute_result"
    },
    {
     "data": {
      "image/png": "[encoded data removed]",
      "text/plain": [
       "<Figure size 774.25x500 with 1 Axes>"
      ]
     },
     "metadata": {},
     "output_type": "display_data"
    }
   ],
   "source": [
    "sns.catplot(data=hoursGrouped, kind='bar', \n",
    "            x='weekdayHoursBin', y='percentage', hue='restlessSleep')"
   ]
  },
  {
   "cell_type": "markdown",
   "metadata": {},
   "source": [
    "#### Conclusion: Social media is correlated with poor sleep quality but only in the most extreme cases."
   ]
  },
  {
   "cell_type": "code",
   "execution_count": null,
   "metadata": {},
   "outputs": [],
   "source": []
  }
 ],
 "metadata": {
  "kernelspec": {
   "display_name": "Python 3 (ipykernel)",
   "language": "python",
   "name": "python3"
  },
  "language_info": {
   "codemirror_mode": {
    "name": "ipython",
    "version": 3
   },
   "file_extension": ".py",
   "mimetype": "text/x-python",
   "name": "python",
   "nbconvert_exporter": "python",
   "pygments_lexer": "ipython3",
   "version": "3.11.7"
  },
  "nteract": {
   "version": "0.28.0"
  }
 },
 "nbformat": 4,
 "nbformat_minor": 4
}
