{
 "cells": [
  {
   "cell_type": "markdown",
   "metadata": {
    "colab_type": "text",
    "id": "FTPCJ54bwC84"
   },
   "source": [
    "# Chapter 14: The Social Survey case study"
   ]
  },
  {
   "cell_type": "raw",
   "metadata": {},
   "source": [
    "If you set up your system as described in appendix A (Windows) or B (macOS), \n",
    "the Stata file for this analysis will be in the ../../data folder, and\n",
    "all of the correct modules (including pyreadstat) will be installed in the \n",
    "murach environment."
   ]
  },
  {
   "cell_type": "markdown",
   "metadata": {},
   "source": [
    "## Build a DataFrame for the metadata "
   ]
  },
  {
   "cell_type": "markdown",
   "metadata": {
    "colab_type": "text",
    "id": "7rOGBaBywg1Z"
   },
   "source": [
    "### Import the modules"
   ]
  },
  {
   "cell_type": "code",
   "execution_count": 1,
   "metadata": {
    "scrolled": true
   },
   "outputs": [],
   "source": [
    "import pandas as pd\n",
    "import seaborn as sns\n",
    "import pyreadstat"
   ]
  },
  {
   "cell_type": "markdown",
   "metadata": {},
   "source": [
    "### Build a DataFrame for the metadata"
   ]
  },
  {
   "cell_type": "code",
   "execution_count": 2,
   "metadata": {
    "tags": []
   },
   "outputs": [],
   "source": [
    "gss_empty, gss_meta = pyreadstat.read_dta('../../data/GSS7218_R3.DTA', metadataonly=True)"
   ]
  },
  {
   "cell_type": "code",
   "execution_count": 3,
   "metadata": {},
   "outputs": [
    {
     "name": "stdout",
     "output_type": "stream",
     "text": [
      "Number of columns:  6110\n",
      "Number of rows:  64814\n"
     ]
    }
   ],
   "source": [
    "print('Number of columns: ', gss_meta.number_columns)\n",
    "print('Number of rows: ',gss_meta.number_rows)"
   ]
  },
  {
   "cell_type": "code",
   "execution_count": 4,
   "metadata": {},
   "outputs": [
    {
     "data": {
      "text/html": [
       "<div>\n",
       "<style scoped>\n",
       "    .dataframe tbody tr th:only-of-type {\n",
       "        vertical-align: middle;\n",
       "    }\n",
       "\n",
       "    .dataframe tbody tr th {\n",
       "        vertical-align: top;\n",
       "    }\n",
       "\n",
       "    .dataframe thead th {\n",
       "        text-align: right;\n",
       "    }\n",
       "</style>\n",
       "<table border=\"1\" class=\"dataframe\">\n",
       "  <thead>\n",
       "    <tr style=\"text-align: right;\">\n",
       "      <th></th>\n",
       "      <th>description</th>\n",
       "    </tr>\n",
       "  </thead>\n",
       "  <tbody>\n",
       "    <tr>\n",
       "      <th>year</th>\n",
       "      <td>gss year for this respondent</td>\n",
       "    </tr>\n",
       "    <tr>\n",
       "      <th>id</th>\n",
       "      <td>respondent id number</td>\n",
       "    </tr>\n",
       "    <tr>\n",
       "      <th>wrkstat</th>\n",
       "      <td>labor force status</td>\n",
       "    </tr>\n",
       "    <tr>\n",
       "      <th>hrs1</th>\n",
       "      <td>number of hours worked last week</td>\n",
       "    </tr>\n",
       "    <tr>\n",
       "      <th>hrs2</th>\n",
       "      <td>number of hours usually work a week</td>\n",
       "    </tr>\n",
       "    <tr>\n",
       "      <th>...</th>\n",
       "      <td>...</td>\n",
       "    </tr>\n",
       "    <tr>\n",
       "      <th>wtss</th>\n",
       "      <td>weight variable</td>\n",
       "    </tr>\n",
       "    <tr>\n",
       "      <th>wtssnr</th>\n",
       "      <td>weight variable</td>\n",
       "    </tr>\n",
       "    <tr>\n",
       "      <th>wtssall</th>\n",
       "      <td>weight variable</td>\n",
       "    </tr>\n",
       "    <tr>\n",
       "      <th>vstrat</th>\n",
       "      <td>variance stratum</td>\n",
       "    </tr>\n",
       "    <tr>\n",
       "      <th>vpsu</th>\n",
       "      <td>variance primary sampling unit</td>\n",
       "    </tr>\n",
       "  </tbody>\n",
       "</table>\n",
       "<p>6110 rows × 1 columns</p>\n",
       "</div>"
      ],
      "text/plain": [
       "                                 description\n",
       "year            gss year for this respondent\n",
       "id                      respondent id number\n",
       "wrkstat                   labor force status\n",
       "hrs1        number of hours worked last week\n",
       "hrs2     number of hours usually work a week\n",
       "...                                      ...\n",
       "wtss                         weight variable\n",
       "wtssnr                       weight variable\n",
       "wtssall                      weight variable\n",
       "vstrat                      variance stratum\n",
       "vpsu          variance primary sampling unit\n",
       "\n",
       "[6110 rows x 1 columns]"
      ]
     },
     "execution_count": 4,
     "metadata": {},
     "output_type": "execute_result"
    }
   ],
   "source": [
    "meta_cols=pd.DataFrame(data=gss_meta.column_labels,\n",
    "                       index=gss_meta.column_names, \n",
    "                       columns=['description'])\n",
    "meta_cols"
   ]
  },
  {
   "cell_type": "markdown",
   "metadata": {},
   "source": [
    "## Read the data into a DataFrame"
   ]
  },
  {
   "cell_type": "code",
   "execution_count": 5,
   "metadata": {},
   "outputs": [],
   "source": [
    "workStatus = pd.read_stata('../../data/GSS7218_R3.DTA', columns=['id','year','wrkstat'])"
   ]
  },
  {
   "cell_type": "code",
   "execution_count": 6,
   "metadata": {},
   "outputs": [
    {
     "data": {
      "text/html": [
       "<div>\n",
       "<style scoped>\n",
       "    .dataframe tbody tr th:only-of-type {\n",
       "        vertical-align: middle;\n",
       "    }\n",
       "\n",
       "    .dataframe tbody tr th {\n",
       "        vertical-align: top;\n",
       "    }\n",
       "\n",
       "    .dataframe thead th {\n",
       "        text-align: right;\n",
       "    }\n",
       "</style>\n",
       "<table border=\"1\" class=\"dataframe\">\n",
       "  <thead>\n",
       "    <tr style=\"text-align: right;\">\n",
       "      <th></th>\n",
       "      <th>id</th>\n",
       "      <th>year</th>\n",
       "      <th>wrkstat</th>\n",
       "    </tr>\n",
       "  </thead>\n",
       "  <tbody>\n",
       "    <tr>\n",
       "      <th>0</th>\n",
       "      <td>1</td>\n",
       "      <td>1972</td>\n",
       "      <td>working fulltime</td>\n",
       "    </tr>\n",
       "    <tr>\n",
       "      <th>1</th>\n",
       "      <td>2</td>\n",
       "      <td>1972</td>\n",
       "      <td>retired</td>\n",
       "    </tr>\n",
       "    <tr>\n",
       "      <th>2</th>\n",
       "      <td>3</td>\n",
       "      <td>1972</td>\n",
       "      <td>working parttime</td>\n",
       "    </tr>\n",
       "    <tr>\n",
       "      <th>3</th>\n",
       "      <td>4</td>\n",
       "      <td>1972</td>\n",
       "      <td>working fulltime</td>\n",
       "    </tr>\n",
       "    <tr>\n",
       "      <th>4</th>\n",
       "      <td>5</td>\n",
       "      <td>1972</td>\n",
       "      <td>keeping house</td>\n",
       "    </tr>\n",
       "  </tbody>\n",
       "</table>\n",
       "</div>"
      ],
      "text/plain": [
       "   id  year           wrkstat\n",
       "0   1  1972  working fulltime\n",
       "1   2  1972           retired\n",
       "2   3  1972  working parttime\n",
       "3   4  1972  working fulltime\n",
       "4   5  1972     keeping house"
      ]
     },
     "execution_count": 6,
     "metadata": {},
     "output_type": "execute_result"
    }
   ],
   "source": [
    "workStatus.head()"
   ]
  },
  {
   "cell_type": "markdown",
   "metadata": {},
   "source": [
    "## Prepare the data"
   ]
  },
  {
   "cell_type": "code",
   "execution_count": 7,
   "metadata": {},
   "outputs": [
    {
     "name": "stdout",
     "output_type": "stream",
     "text": [
      "<class 'pandas.core.frame.DataFrame'>\n",
      "RangeIndex: 64814 entries, 0 to 64813\n",
      "Data columns (total 3 columns):\n",
      " #   Column   Non-Null Count  Dtype   \n",
      "---  ------   --------------  -----   \n",
      " 0   id       64814 non-null  int16   \n",
      " 1   year     64814 non-null  int16   \n",
      " 2   wrkstat  64793 non-null  category\n",
      "dtypes: category(1), int16(2)\n",
      "memory usage: 317.0 KB\n"
     ]
    }
   ],
   "source": [
    "workStatus.info()"
   ]
  },
  {
   "cell_type": "code",
   "execution_count": 8,
   "metadata": {},
   "outputs": [
    {
     "data": {
      "text/plain": [
       "wrkstat\n",
       "working fulltime    31892\n",
       "keeping house       10176\n",
       "retired              9121\n",
       "working parttime     6719\n",
       "unempl, laid off     2179\n",
       "school               1998\n",
       "temp not working     1363\n",
       "other                1345\n",
       "NaN                    21\n",
       "Name: count, dtype: int64"
      ]
     },
     "execution_count": 8,
     "metadata": {},
     "output_type": "execute_result"
    }
   ],
   "source": [
    "workStatus['wrkstat'].value_counts(dropna=False)"
   ]
  },
  {
   "cell_type": "code",
   "execution_count": 9,
   "metadata": {},
   "outputs": [
    {
     "data": {
      "text/html": [
       "<div>\n",
       "<style scoped>\n",
       "    .dataframe tbody tr th:only-of-type {\n",
       "        vertical-align: middle;\n",
       "    }\n",
       "\n",
       "    .dataframe tbody tr th {\n",
       "        vertical-align: top;\n",
       "    }\n",
       "\n",
       "    .dataframe thead th {\n",
       "        text-align: right;\n",
       "    }\n",
       "</style>\n",
       "<table border=\"1\" class=\"dataframe\">\n",
       "  <thead>\n",
       "    <tr style=\"text-align: right;\">\n",
       "      <th></th>\n",
       "      <th>year</th>\n",
       "      <th>wrkstat</th>\n",
       "      <th>counts</th>\n",
       "    </tr>\n",
       "  </thead>\n",
       "  <tbody>\n",
       "    <tr>\n",
       "      <th>0</th>\n",
       "      <td>1972</td>\n",
       "      <td>working fulltime</td>\n",
       "      <td>750</td>\n",
       "    </tr>\n",
       "    <tr>\n",
       "      <th>1</th>\n",
       "      <td>1972</td>\n",
       "      <td>working parttime</td>\n",
       "      <td>121</td>\n",
       "    </tr>\n",
       "    <tr>\n",
       "      <th>2</th>\n",
       "      <td>1972</td>\n",
       "      <td>temp not working</td>\n",
       "      <td>38</td>\n",
       "    </tr>\n",
       "    <tr>\n",
       "      <th>3</th>\n",
       "      <td>1972</td>\n",
       "      <td>unempl, laid off</td>\n",
       "      <td>46</td>\n",
       "    </tr>\n",
       "    <tr>\n",
       "      <th>4</th>\n",
       "      <td>1972</td>\n",
       "      <td>retired</td>\n",
       "      <td>144</td>\n",
       "    </tr>\n",
       "  </tbody>\n",
       "</table>\n",
       "</div>"
      ],
      "text/plain": [
       "   year           wrkstat  counts\n",
       "0  1972  working fulltime     750\n",
       "1  1972  working parttime     121\n",
       "2  1972  temp not working      38\n",
       "3  1972  unempl, laid off      46\n",
       "4  1972           retired     144"
      ]
     },
     "execution_count": 9,
     "metadata": {},
     "output_type": "execute_result"
    }
   ],
   "source": [
    "statusCounts = workStatus.groupby(by=['year', 'wrkstat'], observed=True, as_index=False).count()\n",
    "statusCounts.columns = ['year', 'wrkstat', 'counts']\n",
    "statusCounts.head()"
   ]
  },
  {
   "cell_type": "markdown",
   "metadata": {},
   "source": [
    "## Plot the data and reduce the number of categories"
   ]
  },
  {
   "cell_type": "code",
   "execution_count": 10,
   "metadata": {},
   "outputs": [
    {
     "data": {
      "text/plain": [
       "<seaborn.axisgrid.FacetGrid at 0x20f18b40810>"
      ]
     },
     "execution_count": 10,
     "metadata": {},
     "output_type": "execute_result"
    },
    {
     "data": {
      "image/png": "[encoded data removed]",
      "text/plain": [
       "<Figure size 673.125x500 with 1 Axes>"
      ]
     },
     "metadata": {},
     "output_type": "display_data"
    }
   ],
   "source": [
    "sns.relplot(data=statusCounts, x='year', y='counts', hue='wrkstat', \n",
    "            kind='line', palette='colorblind')"
   ]
  },
  {
   "cell_type": "code",
   "execution_count": 11,
   "metadata": {},
   "outputs": [
    {
     "data": {
      "text/plain": [
       "wrkstat\n",
       "working fulltime    32\n",
       "working parttime    32\n",
       "unempl, laid off    32\n",
       "retired             32\n",
       "temp not working     0\n",
       "school               0\n",
       "keeping house        0\n",
       "other                0\n",
       "Name: count, dtype: int64"
      ]
     },
     "execution_count": 11,
     "metadata": {},
     "output_type": "execute_result"
    }
   ],
   "source": [
    "topCounts = statusCounts.query(\n",
    "    'wrkstat in [\"working fulltime\", \"working parttime\", \"retired\", \\\n",
    "    \"unempl, laid off\"]').copy()\n",
    "topCounts.wrkstat.value_counts()"
   ]
  },
  {
   "cell_type": "code",
   "execution_count": 12,
   "metadata": {},
   "outputs": [
    {
     "data": {
      "text/plain": [
       "wrkstat\n",
       "working fulltime    32\n",
       "working parttime    32\n",
       "unempl, laid off    32\n",
       "retired             32\n",
       "Name: count, dtype: int64"
      ]
     },
     "execution_count": 12,
     "metadata": {},
     "output_type": "execute_result"
    }
   ],
   "source": [
    "topCounts.wrkstat = topCounts.wrkstat.cat.remove_unused_categories()\n",
    "topCounts.wrkstat.value_counts()"
   ]
  },
  {
   "cell_type": "markdown",
   "metadata": {},
   "source": [
    "## Plot the total counts of the responses"
   ]
  },
  {
   "cell_type": "code",
   "execution_count": 13,
   "metadata": {},
   "outputs": [
    {
     "data": {
      "text/html": [
       "<div>\n",
       "<style scoped>\n",
       "    .dataframe tbody tr th:only-of-type {\n",
       "        vertical-align: middle;\n",
       "    }\n",
       "\n",
       "    .dataframe tbody tr th {\n",
       "        vertical-align: top;\n",
       "    }\n",
       "\n",
       "    .dataframe thead th {\n",
       "        text-align: right;\n",
       "    }\n",
       "</style>\n",
       "<table border=\"1\" class=\"dataframe\">\n",
       "  <thead>\n",
       "    <tr style=\"text-align: right;\">\n",
       "      <th></th>\n",
       "      <th>year</th>\n",
       "      <th>counts</th>\n",
       "    </tr>\n",
       "  </thead>\n",
       "  <tbody>\n",
       "    <tr>\n",
       "      <th>0</th>\n",
       "      <td>1972</td>\n",
       "      <td>1061</td>\n",
       "    </tr>\n",
       "    <tr>\n",
       "      <th>1</th>\n",
       "      <td>1973</td>\n",
       "      <td>974</td>\n",
       "    </tr>\n",
       "    <tr>\n",
       "      <th>2</th>\n",
       "      <td>1974</td>\n",
       "      <td>964</td>\n",
       "    </tr>\n",
       "    <tr>\n",
       "      <th>3</th>\n",
       "      <td>1975</td>\n",
       "      <td>993</td>\n",
       "    </tr>\n",
       "    <tr>\n",
       "      <th>4</th>\n",
       "      <td>1976</td>\n",
       "      <td>989</td>\n",
       "    </tr>\n",
       "  </tbody>\n",
       "</table>\n",
       "</div>"
      ],
      "text/plain": [
       "   year  counts\n",
       "0  1972    1061\n",
       "1  1973     974\n",
       "2  1974     964\n",
       "3  1975     993\n",
       "4  1976     989"
      ]
     },
     "execution_count": 13,
     "metadata": {},
     "output_type": "execute_result"
    }
   ],
   "source": [
    "# add yearly totals\n",
    "topCountsByYear = topCounts.groupby(by=['year'], as_index=False)[['counts']].sum()\n",
    "topCountsByYear.head()"
   ]
  },
  {
   "cell_type": "code",
   "execution_count": 14,
   "metadata": {},
   "outputs": [
    {
     "data": {
      "text/html": [
       "<div>\n",
       "<style scoped>\n",
       "    .dataframe tbody tr th:only-of-type {\n",
       "        vertical-align: middle;\n",
       "    }\n",
       "\n",
       "    .dataframe tbody tr th {\n",
       "        vertical-align: top;\n",
       "    }\n",
       "\n",
       "    .dataframe thead th {\n",
       "        text-align: right;\n",
       "    }\n",
       "</style>\n",
       "<table border=\"1\" class=\"dataframe\">\n",
       "  <thead>\n",
       "    <tr style=\"text-align: right;\">\n",
       "      <th></th>\n",
       "      <th>year</th>\n",
       "      <th>wrkstat</th>\n",
       "      <th>counts</th>\n",
       "      <th>countsTotal</th>\n",
       "    </tr>\n",
       "  </thead>\n",
       "  <tbody>\n",
       "    <tr>\n",
       "      <th>0</th>\n",
       "      <td>1972</td>\n",
       "      <td>working fulltime</td>\n",
       "      <td>750</td>\n",
       "      <td>1061</td>\n",
       "    </tr>\n",
       "    <tr>\n",
       "      <th>1</th>\n",
       "      <td>1972</td>\n",
       "      <td>working parttime</td>\n",
       "      <td>121</td>\n",
       "      <td>1061</td>\n",
       "    </tr>\n",
       "    <tr>\n",
       "      <th>2</th>\n",
       "      <td>1972</td>\n",
       "      <td>unempl, laid off</td>\n",
       "      <td>46</td>\n",
       "      <td>1061</td>\n",
       "    </tr>\n",
       "    <tr>\n",
       "      <th>3</th>\n",
       "      <td>1972</td>\n",
       "      <td>retired</td>\n",
       "      <td>144</td>\n",
       "      <td>1061</td>\n",
       "    </tr>\n",
       "    <tr>\n",
       "      <th>4</th>\n",
       "      <td>1973</td>\n",
       "      <td>working fulltime</td>\n",
       "      <td>651</td>\n",
       "      <td>974</td>\n",
       "    </tr>\n",
       "  </tbody>\n",
       "</table>\n",
       "</div>"
      ],
      "text/plain": [
       "   year           wrkstat  counts  countsTotal\n",
       "0  1972  working fulltime     750         1061\n",
       "1  1972  working parttime     121         1061\n",
       "2  1972  unempl, laid off      46         1061\n",
       "3  1972           retired     144         1061\n",
       "4  1973  working fulltime     651          974"
      ]
     },
     "execution_count": 14,
     "metadata": {},
     "output_type": "execute_result"
    }
   ],
   "source": [
    "topCounts = topCounts.merge(topCountsByYear, on='year', suffixes=('','Total'))\n",
    "topCounts.head()"
   ]
  },
  {
   "cell_type": "code",
   "execution_count": 15,
   "metadata": {},
   "outputs": [
    {
     "data": {
      "text/plain": [
       "<seaborn.axisgrid.FacetGrid at 0x20f19152c50>"
      ]
     },
     "execution_count": 15,
     "metadata": {},
     "output_type": "execute_result"
    },
    {
     "data": {
      "image/png": "[encoded data removed]",
      "text/plain": [
       "<Figure size 500x500 with 1 Axes>"
      ]
     },
     "metadata": {},
     "output_type": "display_data"
    }
   ],
   "source": [
    "sns.relplot(data=topCounts, x='year', y='countsTotal', \n",
    "            kind='line')"
   ]
  },
  {
   "cell_type": "markdown",
   "metadata": {},
   "source": [
    "## Convert the counts to percents and plot them"
   ]
  },
  {
   "cell_type": "code",
   "execution_count": 16,
   "metadata": {},
   "outputs": [
    {
     "data": {
      "text/plain": [
       "0      0.706880\n",
       "1      0.114043\n",
       "2      0.043355\n",
       "3      0.135721\n",
       "4      0.668378\n",
       "         ...   \n",
       "123    0.243427\n",
       "124    0.590010\n",
       "125    0.134755\n",
       "126    0.043704\n",
       "127    0.231530\n",
       "Length: 128, dtype: float64"
      ]
     },
     "execution_count": 16,
     "metadata": {},
     "output_type": "execute_result"
    }
   ],
   "source": [
    "topCounts['counts'] / topCounts['countsTotal']"
   ]
  },
  {
   "cell_type": "code",
   "execution_count": 17,
   "metadata": {},
   "outputs": [
    {
     "data": {
      "text/html": [
       "<div>\n",
       "<style scoped>\n",
       "    .dataframe tbody tr th:only-of-type {\n",
       "        vertical-align: middle;\n",
       "    }\n",
       "\n",
       "    .dataframe tbody tr th {\n",
       "        vertical-align: top;\n",
       "    }\n",
       "\n",
       "    .dataframe thead th {\n",
       "        text-align: right;\n",
       "    }\n",
       "</style>\n",
       "<table border=\"1\" class=\"dataframe\">\n",
       "  <thead>\n",
       "    <tr style=\"text-align: right;\">\n",
       "      <th></th>\n",
       "      <th>year</th>\n",
       "      <th>wrkstat</th>\n",
       "      <th>counts</th>\n",
       "      <th>countsTotal</th>\n",
       "      <th>percent</th>\n",
       "    </tr>\n",
       "  </thead>\n",
       "  <tbody>\n",
       "    <tr>\n",
       "      <th>0</th>\n",
       "      <td>1972</td>\n",
       "      <td>working fulltime</td>\n",
       "      <td>750</td>\n",
       "      <td>1061</td>\n",
       "      <td>0.706880</td>\n",
       "    </tr>\n",
       "    <tr>\n",
       "      <th>1</th>\n",
       "      <td>1972</td>\n",
       "      <td>working parttime</td>\n",
       "      <td>121</td>\n",
       "      <td>1061</td>\n",
       "      <td>0.114043</td>\n",
       "    </tr>\n",
       "    <tr>\n",
       "      <th>2</th>\n",
       "      <td>1972</td>\n",
       "      <td>unempl, laid off</td>\n",
       "      <td>46</td>\n",
       "      <td>1061</td>\n",
       "      <td>0.043355</td>\n",
       "    </tr>\n",
       "    <tr>\n",
       "      <th>3</th>\n",
       "      <td>1972</td>\n",
       "      <td>retired</td>\n",
       "      <td>144</td>\n",
       "      <td>1061</td>\n",
       "      <td>0.135721</td>\n",
       "    </tr>\n",
       "    <tr>\n",
       "      <th>4</th>\n",
       "      <td>1973</td>\n",
       "      <td>working fulltime</td>\n",
       "      <td>651</td>\n",
       "      <td>974</td>\n",
       "      <td>0.668378</td>\n",
       "    </tr>\n",
       "  </tbody>\n",
       "</table>\n",
       "</div>"
      ],
      "text/plain": [
       "   year           wrkstat  counts  countsTotal   percent\n",
       "0  1972  working fulltime     750         1061  0.706880\n",
       "1  1972  working parttime     121         1061  0.114043\n",
       "2  1972  unempl, laid off      46         1061  0.043355\n",
       "3  1972           retired     144         1061  0.135721\n",
       "4  1973  working fulltime     651          974  0.668378"
      ]
     },
     "execution_count": 17,
     "metadata": {},
     "output_type": "execute_result"
    }
   ],
   "source": [
    "topCounts['percent'] = topCounts['counts'] / topCounts['countsTotal']\n",
    "topCounts.head()"
   ]
  },
  {
   "cell_type": "code",
   "execution_count": 18,
   "metadata": {},
   "outputs": [
    {
     "data": {
      "text/plain": [
       "<seaborn.axisgrid.FacetGrid at 0x20f18fcb810>"
      ]
     },
     "execution_count": 18,
     "metadata": {},
     "output_type": "execute_result"
    },
    {
     "data": {
      "image/png": "[encoded data removed]",
      "text/plain": [
       "<Figure size 669.75x500 with 1 Axes>"
      ]
     },
     "metadata": {},
     "output_type": "display_data"
    }
   ],
   "source": [
    "# This chart makes more sense\n",
    "sns.relplot(data=topCounts, x='year', y='percent', kind='line', \n",
    "            hue='wrkstat', palette='colorblind')"
   ]
  },
  {
   "cell_type": "markdown",
   "metadata": {},
   "source": [
    "## Read and review the work-life data"
   ]
  },
  {
   "cell_type": "code",
   "execution_count": 19,
   "metadata": {},
   "outputs": [
    {
     "data": {
      "text/html": [
       "<div>\n",
       "<style scoped>\n",
       "    .dataframe tbody tr th:only-of-type {\n",
       "        vertical-align: middle;\n",
       "    }\n",
       "\n",
       "    .dataframe tbody tr th {\n",
       "        vertical-align: top;\n",
       "    }\n",
       "\n",
       "    .dataframe thead th {\n",
       "        text-align: right;\n",
       "    }\n",
       "</style>\n",
       "<table border=\"1\" class=\"dataframe\">\n",
       "  <thead>\n",
       "    <tr style=\"text-align: right;\">\n",
       "      <th></th>\n",
       "      <th>wkcontct</th>\n",
       "      <th>talkspvs</th>\n",
       "      <th>effctsup</th>\n",
       "    </tr>\n",
       "  </thead>\n",
       "  <tbody>\n",
       "    <tr>\n",
       "      <th>57062</th>\n",
       "      <td>once or twice a month</td>\n",
       "      <td>very</td>\n",
       "      <td>very</td>\n",
       "    </tr>\n",
       "    <tr>\n",
       "      <th>57064</th>\n",
       "      <td>never</td>\n",
       "      <td>very</td>\n",
       "      <td>very</td>\n",
       "    </tr>\n",
       "    <tr>\n",
       "      <th>57074</th>\n",
       "      <td>never</td>\n",
       "      <td>very</td>\n",
       "      <td>somewhat</td>\n",
       "    </tr>\n",
       "    <tr>\n",
       "      <th>57079</th>\n",
       "      <td>never</td>\n",
       "      <td>somewhat</td>\n",
       "      <td>very</td>\n",
       "    </tr>\n",
       "    <tr>\n",
       "      <th>57081</th>\n",
       "      <td>never</td>\n",
       "      <td>very</td>\n",
       "      <td>very</td>\n",
       "    </tr>\n",
       "    <tr>\n",
       "      <th>...</th>\n",
       "      <td>...</td>\n",
       "      <td>...</td>\n",
       "      <td>...</td>\n",
       "    </tr>\n",
       "    <tr>\n",
       "      <th>59591</th>\n",
       "      <td>once or twice a month</td>\n",
       "      <td>somewhat</td>\n",
       "      <td>somewhat</td>\n",
       "    </tr>\n",
       "    <tr>\n",
       "      <th>59595</th>\n",
       "      <td>less than once a month</td>\n",
       "      <td>very</td>\n",
       "      <td>very</td>\n",
       "    </tr>\n",
       "    <tr>\n",
       "      <th>59596</th>\n",
       "      <td>never</td>\n",
       "      <td>somewhat</td>\n",
       "      <td>somewhat</td>\n",
       "    </tr>\n",
       "    <tr>\n",
       "      <th>59597</th>\n",
       "      <td>once or twice a month</td>\n",
       "      <td>a little</td>\n",
       "      <td>somewhat</td>\n",
       "    </tr>\n",
       "    <tr>\n",
       "      <th>59598</th>\n",
       "      <td>never</td>\n",
       "      <td>extremely</td>\n",
       "      <td>very</td>\n",
       "    </tr>\n",
       "  </tbody>\n",
       "</table>\n",
       "<p>1000 rows × 3 columns</p>\n",
       "</div>"
      ],
      "text/plain": [
       "                     wkcontct   talkspvs  effctsup\n",
       "57062   once or twice a month       very      very\n",
       "57064                   never       very      very\n",
       "57074                   never       very  somewhat\n",
       "57079                   never   somewhat      very\n",
       "57081                   never       very      very\n",
       "...                       ...        ...       ...\n",
       "59591   once or twice a month   somewhat  somewhat\n",
       "59595  less than once a month       very      very\n",
       "59596                   never   somewhat  somewhat\n",
       "59597   once or twice a month   a little  somewhat\n",
       "59598                   never  extremely      very\n",
       "\n",
       "[1000 rows x 3 columns]"
      ]
     },
     "execution_count": 19,
     "metadata": {},
     "output_type": "execute_result"
    }
   ],
   "source": [
    "# pg 3103, work life balance questions\n",
    "wlBalanceCols = ['wkcontct','talkspvs','effctsup']\n",
    "wlBalance = pd.read_stata('../../data/GSS7218_R3.DTA', columns=wlBalanceCols).dropna()\n",
    "wlBalance"
   ]
  },
  {
   "cell_type": "code",
   "execution_count": 20,
   "metadata": {},
   "outputs": [
    {
     "data": {
      "text/plain": [
       "wkcontct\n",
       "never                      329\n",
       "less than once a month     187\n",
       "once or twice a month      170\n",
       "several times a week       145\n",
       "once a week                 98\n",
       "two or more times a day     42\n",
       "once a day                  29\n",
       "Name: count, dtype: int64"
      ]
     },
     "execution_count": 20,
     "metadata": {},
     "output_type": "execute_result"
    }
   ],
   "source": [
    "wlBalance.wkcontct.value_counts()"
   ]
  },
  {
   "cell_type": "code",
   "execution_count": 21,
   "metadata": {},
   "outputs": [
    {
     "data": {
      "text/plain": [
       "talkspvs\n",
       "very                      333\n",
       "somewhat                  259\n",
       "extremely                 165\n",
       "not at all comfortable    127\n",
       "a little                  116\n",
       "Name: count, dtype: int64"
      ]
     },
     "execution_count": 21,
     "metadata": {},
     "output_type": "execute_result"
    }
   ],
   "source": [
    "wlBalance.talkspvs.value_counts()"
   ]
  },
  {
   "cell_type": "code",
   "execution_count": 22,
   "metadata": {},
   "outputs": [
    {
     "data": {
      "text/plain": [
       "effctsup\n",
       "very                    338\n",
       "somewhat                287\n",
       "a little                158\n",
       "extremely               125\n",
       "not at all effective     92\n",
       "Name: count, dtype: int64"
      ]
     },
     "execution_count": 22,
     "metadata": {},
     "output_type": "execute_result"
    }
   ],
   "source": [
    "wlBalance.effctsup.value_counts()"
   ]
  },
  {
   "cell_type": "markdown",
   "metadata": {},
   "source": [
    "## Plot the work-life responses for the first question"
   ]
  },
  {
   "cell_type": "code",
   "execution_count": 23,
   "metadata": {},
   "outputs": [
    {
     "data": {
      "text/html": [
       "<div>\n",
       "<style scoped>\n",
       "    .dataframe tbody tr th:only-of-type {\n",
       "        vertical-align: middle;\n",
       "    }\n",
       "\n",
       "    .dataframe tbody tr th {\n",
       "        vertical-align: top;\n",
       "    }\n",
       "\n",
       "    .dataframe thead th {\n",
       "        text-align: right;\n",
       "    }\n",
       "</style>\n",
       "<table border=\"1\" class=\"dataframe\">\n",
       "  <thead>\n",
       "    <tr style=\"text-align: right;\">\n",
       "      <th></th>\n",
       "      <th>answer</th>\n",
       "      <th>count</th>\n",
       "    </tr>\n",
       "  </thead>\n",
       "  <tbody>\n",
       "    <tr>\n",
       "      <th>0</th>\n",
       "      <td>never</td>\n",
       "      <td>329</td>\n",
       "    </tr>\n",
       "    <tr>\n",
       "      <th>1</th>\n",
       "      <td>less than once a month</td>\n",
       "      <td>187</td>\n",
       "    </tr>\n",
       "    <tr>\n",
       "      <th>2</th>\n",
       "      <td>once or twice a month</td>\n",
       "      <td>170</td>\n",
       "    </tr>\n",
       "    <tr>\n",
       "      <th>3</th>\n",
       "      <td>several times a week</td>\n",
       "      <td>145</td>\n",
       "    </tr>\n",
       "    <tr>\n",
       "      <th>4</th>\n",
       "      <td>once a week</td>\n",
       "      <td>98</td>\n",
       "    </tr>\n",
       "    <tr>\n",
       "      <th>5</th>\n",
       "      <td>two or more times a day</td>\n",
       "      <td>42</td>\n",
       "    </tr>\n",
       "    <tr>\n",
       "      <th>6</th>\n",
       "      <td>once a day</td>\n",
       "      <td>29</td>\n",
       "    </tr>\n",
       "  </tbody>\n",
       "</table>\n",
       "</div>"
      ],
      "text/plain": [
       "                    answer  count\n",
       "0                    never    329\n",
       "1   less than once a month    187\n",
       "2    once or twice a month    170\n",
       "3     several times a week    145\n",
       "4              once a week     98\n",
       "5  two or more times a day     42\n",
       "6               once a day     29"
      ]
     },
     "execution_count": 23,
     "metadata": {},
     "output_type": "execute_result"
    }
   ],
   "source": [
    "workContact = wlBalance.wkcontct.value_counts().to_frame().reset_index()\n",
    "workContact.columns = ['answer','count']\n",
    "workContact"
   ]
  },
  {
   "cell_type": "code",
   "execution_count": 24,
   "metadata": {},
   "outputs": [
    {
     "data": {
      "text/plain": [
       "<seaborn.axisgrid.FacetGrid at 0x20f1b4b5b90>"
      ]
     },
     "execution_count": 24,
     "metadata": {},
     "output_type": "execute_result"
    },
    {
     "data": {
      "image/png": "[encoded data removed]",
      "text/plain": [
       "<Figure size 636.111x500 with 1 Axes>"
      ]
     },
     "metadata": {},
     "output_type": "display_data"
    }
   ],
   "source": [
    "g = sns.catplot(data=workContact, x='count', y='answer', \n",
    "                kind='bar', orient='h', aspect=1.25)\n",
    "\n",
    "g.set(title=\"How often are you contacted about work\\n\" + \n",
    "            \"when you aren't on the job?\")"
   ]
  },
  {
   "cell_type": "markdown",
   "metadata": {},
   "source": [
    "## Plot the work-life responses for the second and third questions"
   ]
  },
  {
   "cell_type": "code",
   "execution_count": 25,
   "metadata": {},
   "outputs": [
    {
     "data": {
      "text/html": [
       "<div>\n",
       "<style scoped>\n",
       "    .dataframe tbody tr th:only-of-type {\n",
       "        vertical-align: middle;\n",
       "    }\n",
       "\n",
       "    .dataframe tbody tr th {\n",
       "        vertical-align: top;\n",
       "    }\n",
       "\n",
       "    .dataframe thead th {\n",
       "        text-align: right;\n",
       "    }\n",
       "</style>\n",
       "<table border=\"1\" class=\"dataframe\">\n",
       "  <thead>\n",
       "    <tr style=\"text-align: right;\">\n",
       "      <th></th>\n",
       "      <th>count</th>\n",
       "    </tr>\n",
       "    <tr>\n",
       "      <th>talkspvs</th>\n",
       "      <th></th>\n",
       "    </tr>\n",
       "  </thead>\n",
       "  <tbody>\n",
       "    <tr>\n",
       "      <th>very</th>\n",
       "      <td>333</td>\n",
       "    </tr>\n",
       "    <tr>\n",
       "      <th>somewhat</th>\n",
       "      <td>259</td>\n",
       "    </tr>\n",
       "    <tr>\n",
       "      <th>extremely</th>\n",
       "      <td>165</td>\n",
       "    </tr>\n",
       "    <tr>\n",
       "      <th>not at all</th>\n",
       "      <td>127</td>\n",
       "    </tr>\n",
       "    <tr>\n",
       "      <th>a little</th>\n",
       "      <td>116</td>\n",
       "    </tr>\n",
       "  </tbody>\n",
       "</table>\n",
       "</div>"
      ],
      "text/plain": [
       "            count\n",
       "talkspvs         \n",
       "very          333\n",
       "somewhat      259\n",
       "extremely     165\n",
       "not at all    127\n",
       "a little      116"
      ]
     },
     "execution_count": 25,
     "metadata": {},
     "output_type": "execute_result"
    }
   ],
   "source": [
    "df1 = wlBalance.talkspvs.value_counts().to_frame()\n",
    "df1 = df1.rename(index={'not at all comfortable':'not at all'}) \n",
    "df1"
   ]
  },
  {
   "cell_type": "code",
   "execution_count": 26,
   "metadata": {},
   "outputs": [
    {
     "data": {
      "text/html": [
       "<div>\n",
       "<style scoped>\n",
       "    .dataframe tbody tr th:only-of-type {\n",
       "        vertical-align: middle;\n",
       "    }\n",
       "\n",
       "    .dataframe tbody tr th {\n",
       "        vertical-align: top;\n",
       "    }\n",
       "\n",
       "    .dataframe thead th {\n",
       "        text-align: right;\n",
       "    }\n",
       "</style>\n",
       "<table border=\"1\" class=\"dataframe\">\n",
       "  <thead>\n",
       "    <tr style=\"text-align: right;\">\n",
       "      <th></th>\n",
       "      <th>count</th>\n",
       "    </tr>\n",
       "    <tr>\n",
       "      <th>effctsup</th>\n",
       "      <th></th>\n",
       "    </tr>\n",
       "  </thead>\n",
       "  <tbody>\n",
       "    <tr>\n",
       "      <th>very</th>\n",
       "      <td>338</td>\n",
       "    </tr>\n",
       "    <tr>\n",
       "      <th>somewhat</th>\n",
       "      <td>287</td>\n",
       "    </tr>\n",
       "    <tr>\n",
       "      <th>a little</th>\n",
       "      <td>158</td>\n",
       "    </tr>\n",
       "    <tr>\n",
       "      <th>extremely</th>\n",
       "      <td>125</td>\n",
       "    </tr>\n",
       "    <tr>\n",
       "      <th>not at all</th>\n",
       "      <td>92</td>\n",
       "    </tr>\n",
       "  </tbody>\n",
       "</table>\n",
       "</div>"
      ],
      "text/plain": [
       "            count\n",
       "effctsup         \n",
       "very          338\n",
       "somewhat      287\n",
       "a little      158\n",
       "extremely     125\n",
       "not at all     92"
      ]
     },
     "execution_count": 26,
     "metadata": {},
     "output_type": "execute_result"
    }
   ],
   "source": [
    "df2 = wlBalance.effctsup.value_counts().to_frame()\n",
    "df2 = df2.rename(index={'not at all effective':'not at all'})\n",
    "df2"
   ]
  },
  {
   "cell_type": "code",
   "execution_count": 27,
   "metadata": {},
   "outputs": [
    {
     "data": {
      "text/html": [
       "<div>\n",
       "<style scoped>\n",
       "    .dataframe tbody tr th:only-of-type {\n",
       "        vertical-align: middle;\n",
       "    }\n",
       "\n",
       "    .dataframe tbody tr th {\n",
       "        vertical-align: top;\n",
       "    }\n",
       "\n",
       "    .dataframe thead th {\n",
       "        text-align: right;\n",
       "    }\n",
       "</style>\n",
       "<table border=\"1\" class=\"dataframe\">\n",
       "  <thead>\n",
       "    <tr style=\"text-align: right;\">\n",
       "      <th></th>\n",
       "      <th>response</th>\n",
       "      <th>count_talkspvs</th>\n",
       "      <th>count_effctsup</th>\n",
       "    </tr>\n",
       "  </thead>\n",
       "  <tbody>\n",
       "    <tr>\n",
       "      <th>0</th>\n",
       "      <td>very</td>\n",
       "      <td>333</td>\n",
       "      <td>338</td>\n",
       "    </tr>\n",
       "    <tr>\n",
       "      <th>1</th>\n",
       "      <td>somewhat</td>\n",
       "      <td>259</td>\n",
       "      <td>287</td>\n",
       "    </tr>\n",
       "    <tr>\n",
       "      <th>2</th>\n",
       "      <td>extremely</td>\n",
       "      <td>165</td>\n",
       "      <td>125</td>\n",
       "    </tr>\n",
       "    <tr>\n",
       "      <th>3</th>\n",
       "      <td>not at all</td>\n",
       "      <td>127</td>\n",
       "      <td>92</td>\n",
       "    </tr>\n",
       "    <tr>\n",
       "      <th>4</th>\n",
       "      <td>a little</td>\n",
       "      <td>116</td>\n",
       "      <td>158</td>\n",
       "    </tr>\n",
       "  </tbody>\n",
       "</table>\n",
       "</div>"
      ],
      "text/plain": [
       "     response  count_talkspvs  count_effctsup\n",
       "0        very             333             338\n",
       "1    somewhat             259             287\n",
       "2   extremely             165             125\n",
       "3  not at all             127              92\n",
       "4    a little             116             158"
      ]
     },
     "execution_count": 27,
     "metadata": {},
     "output_type": "execute_result"
    }
   ],
   "source": [
    "supervisorData = df1.join(df2, lsuffix='_talkspvs', rsuffix='_effctsup').reset_index()\n",
    "supervisorData.columns = ['response','count_talkspvs','count_effctsup']\n",
    "supervisorData.head()"
   ]
  },
  {
   "cell_type": "code",
   "execution_count": 28,
   "metadata": {},
   "outputs": [
    {
     "data": {
      "text/html": [
       "<div>\n",
       "<style scoped>\n",
       "    .dataframe tbody tr th:only-of-type {\n",
       "        vertical-align: middle;\n",
       "    }\n",
       "\n",
       "    .dataframe tbody tr th {\n",
       "        vertical-align: top;\n",
       "    }\n",
       "\n",
       "    .dataframe thead th {\n",
       "        text-align: right;\n",
       "    }\n",
       "</style>\n",
       "<table border=\"1\" class=\"dataframe\">\n",
       "  <thead>\n",
       "    <tr style=\"text-align: right;\">\n",
       "      <th></th>\n",
       "      <th>answer</th>\n",
       "      <th>question</th>\n",
       "      <th>responseCount</th>\n",
       "    </tr>\n",
       "  </thead>\n",
       "  <tbody>\n",
       "    <tr>\n",
       "      <th>0</th>\n",
       "      <td>very</td>\n",
       "      <td>count_talkspvs</td>\n",
       "      <td>333</td>\n",
       "    </tr>\n",
       "    <tr>\n",
       "      <th>1</th>\n",
       "      <td>somewhat</td>\n",
       "      <td>count_talkspvs</td>\n",
       "      <td>259</td>\n",
       "    </tr>\n",
       "    <tr>\n",
       "      <th>2</th>\n",
       "      <td>extremely</td>\n",
       "      <td>count_talkspvs</td>\n",
       "      <td>165</td>\n",
       "    </tr>\n",
       "    <tr>\n",
       "      <th>3</th>\n",
       "      <td>not at all</td>\n",
       "      <td>count_talkspvs</td>\n",
       "      <td>127</td>\n",
       "    </tr>\n",
       "    <tr>\n",
       "      <th>4</th>\n",
       "      <td>a little</td>\n",
       "      <td>count_talkspvs</td>\n",
       "      <td>116</td>\n",
       "    </tr>\n",
       "  </tbody>\n",
       "</table>\n",
       "</div>"
      ],
      "text/plain": [
       "       answer        question  responseCount\n",
       "0        very  count_talkspvs            333\n",
       "1    somewhat  count_talkspvs            259\n",
       "2   extremely  count_talkspvs            165\n",
       "3  not at all  count_talkspvs            127\n",
       "4    a little  count_talkspvs            116"
      ]
     },
     "execution_count": 28,
     "metadata": {},
     "output_type": "execute_result"
    }
   ],
   "source": [
    "supervisorData = pd.melt(supervisorData, id_vars='response', \n",
    "                         value_vars=['count_talkspvs', 'count_effctsup'])\n",
    "supervisorData.columns = ['answer','question','responseCount']\n",
    "supervisorData.head()"
   ]
  },
  {
   "cell_type": "code",
   "execution_count": 29,
   "metadata": {},
   "outputs": [
    {
     "data": {
      "image/png": "[encoded data removed]",
      "text/plain": [
       "<Figure size 1261.11x500 with 2 Axes>"
      ]
     },
     "metadata": {},
     "output_type": "display_data"
    }
   ],
   "source": [
    "g = sns.catplot(data=supervisorData, x='answer', y='responseCount', \n",
    "                kind='bar', col='question', aspect=1.25, col_wrap=2)\n",
    "\n",
    "titles = ['How comfortable are you talking with your supervisor?',\n",
    "          'How helpful is your supervisor at resolving work-life conflicts?']\n",
    "for i, ax in enumerate(g.axes.flat):\n",
    "    ax.tick_params('x',labelrotation=45)\n",
    "    ax.set_title(titles[i])"
   ]
  },
  {
   "cell_type": "markdown",
   "metadata": {},
   "source": [
    "## Select the columns for an expanded DataFrame"
   ]
  },
  {
   "cell_type": "code",
   "execution_count": 30,
   "metadata": {},
   "outputs": [
    {
     "data": {
      "text/html": [
       "<div>\n",
       "<style scoped>\n",
       "    .dataframe tbody tr th:only-of-type {\n",
       "        vertical-align: middle;\n",
       "    }\n",
       "\n",
       "    .dataframe tbody tr th {\n",
       "        vertical-align: top;\n",
       "    }\n",
       "\n",
       "    .dataframe thead th {\n",
       "        text-align: right;\n",
       "    }\n",
       "</style>\n",
       "<table border=\"1\" class=\"dataframe\">\n",
       "  <thead>\n",
       "    <tr style=\"text-align: right;\">\n",
       "      <th></th>\n",
       "      <th>year</th>\n",
       "      <th>sex</th>\n",
       "      <th>region</th>\n",
       "      <th>wrkstat</th>\n",
       "      <th>hrs1</th>\n",
       "      <th>wkcontct</th>\n",
       "      <th>talkspvs</th>\n",
       "      <th>effctsup</th>\n",
       "    </tr>\n",
       "  </thead>\n",
       "  <tbody>\n",
       "    <tr>\n",
       "      <th>0</th>\n",
       "      <td>2014</td>\n",
       "      <td>female</td>\n",
       "      <td>new england</td>\n",
       "      <td>working fulltime</td>\n",
       "      <td>40.0</td>\n",
       "      <td>once or twice a month</td>\n",
       "      <td>very</td>\n",
       "      <td>very</td>\n",
       "    </tr>\n",
       "    <tr>\n",
       "      <th>1</th>\n",
       "      <td>2014</td>\n",
       "      <td>female</td>\n",
       "      <td>new england</td>\n",
       "      <td>working parttime</td>\n",
       "      <td>20.0</td>\n",
       "      <td>never</td>\n",
       "      <td>very</td>\n",
       "      <td>very</td>\n",
       "    </tr>\n",
       "    <tr>\n",
       "      <th>2</th>\n",
       "      <td>2014</td>\n",
       "      <td>female</td>\n",
       "      <td>middle atlantic</td>\n",
       "      <td>working fulltime</td>\n",
       "      <td>37.0</td>\n",
       "      <td>never</td>\n",
       "      <td>very</td>\n",
       "      <td>somewhat</td>\n",
       "    </tr>\n",
       "    <tr>\n",
       "      <th>3</th>\n",
       "      <td>2014</td>\n",
       "      <td>male</td>\n",
       "      <td>new england</td>\n",
       "      <td>working fulltime</td>\n",
       "      <td>50.0</td>\n",
       "      <td>never</td>\n",
       "      <td>somewhat</td>\n",
       "      <td>very</td>\n",
       "    </tr>\n",
       "    <tr>\n",
       "      <th>4</th>\n",
       "      <td>2014</td>\n",
       "      <td>female</td>\n",
       "      <td>new england</td>\n",
       "      <td>working fulltime</td>\n",
       "      <td>38.0</td>\n",
       "      <td>never</td>\n",
       "      <td>very</td>\n",
       "      <td>very</td>\n",
       "    </tr>\n",
       "    <tr>\n",
       "      <th>...</th>\n",
       "      <td>...</td>\n",
       "      <td>...</td>\n",
       "      <td>...</td>\n",
       "      <td>...</td>\n",
       "      <td>...</td>\n",
       "      <td>...</td>\n",
       "      <td>...</td>\n",
       "      <td>...</td>\n",
       "    </tr>\n",
       "    <tr>\n",
       "      <th>965</th>\n",
       "      <td>2014</td>\n",
       "      <td>male</td>\n",
       "      <td>new england</td>\n",
       "      <td>working fulltime</td>\n",
       "      <td>48.0</td>\n",
       "      <td>once or twice a month</td>\n",
       "      <td>somewhat</td>\n",
       "      <td>somewhat</td>\n",
       "    </tr>\n",
       "    <tr>\n",
       "      <th>966</th>\n",
       "      <td>2014</td>\n",
       "      <td>male</td>\n",
       "      <td>new england</td>\n",
       "      <td>working fulltime</td>\n",
       "      <td>46.0</td>\n",
       "      <td>less than once a month</td>\n",
       "      <td>very</td>\n",
       "      <td>very</td>\n",
       "    </tr>\n",
       "    <tr>\n",
       "      <th>967</th>\n",
       "      <td>2014</td>\n",
       "      <td>male</td>\n",
       "      <td>new england</td>\n",
       "      <td>working fulltime</td>\n",
       "      <td>40.0</td>\n",
       "      <td>never</td>\n",
       "      <td>somewhat</td>\n",
       "      <td>somewhat</td>\n",
       "    </tr>\n",
       "    <tr>\n",
       "      <th>968</th>\n",
       "      <td>2014</td>\n",
       "      <td>male</td>\n",
       "      <td>new england</td>\n",
       "      <td>working fulltime</td>\n",
       "      <td>40.0</td>\n",
       "      <td>once or twice a month</td>\n",
       "      <td>a little</td>\n",
       "      <td>somewhat</td>\n",
       "    </tr>\n",
       "    <tr>\n",
       "      <th>969</th>\n",
       "      <td>2014</td>\n",
       "      <td>female</td>\n",
       "      <td>new england</td>\n",
       "      <td>working parttime</td>\n",
       "      <td>48.0</td>\n",
       "      <td>never</td>\n",
       "      <td>extremely</td>\n",
       "      <td>very</td>\n",
       "    </tr>\n",
       "  </tbody>\n",
       "</table>\n",
       "<p>970 rows × 8 columns</p>\n",
       "</div>"
      ],
      "text/plain": [
       "     year     sex           region           wrkstat  hrs1  \\\n",
       "0    2014  female      new england  working fulltime  40.0   \n",
       "1    2014  female      new england  working parttime  20.0   \n",
       "2    2014  female  middle atlantic  working fulltime  37.0   \n",
       "3    2014    male      new england  working fulltime  50.0   \n",
       "4    2014  female      new england  working fulltime  38.0   \n",
       "..    ...     ...              ...               ...   ...   \n",
       "965  2014    male      new england  working fulltime  48.0   \n",
       "966  2014    male      new england  working fulltime  46.0   \n",
       "967  2014    male      new england  working fulltime  40.0   \n",
       "968  2014    male      new england  working fulltime  40.0   \n",
       "969  2014  female      new england  working parttime  48.0   \n",
       "\n",
       "                   wkcontct   talkspvs  effctsup  \n",
       "0     once or twice a month       very      very  \n",
       "1                     never       very      very  \n",
       "2                     never       very  somewhat  \n",
       "3                     never   somewhat      very  \n",
       "4                     never       very      very  \n",
       "..                      ...        ...       ...  \n",
       "965   once or twice a month   somewhat  somewhat  \n",
       "966  less than once a month       very      very  \n",
       "967                   never   somewhat  somewhat  \n",
       "968   once or twice a month   a little  somewhat  \n",
       "969                   never  extremely      very  \n",
       "\n",
       "[970 rows x 8 columns]"
      ]
     },
     "execution_count": 30,
     "metadata": {},
     "output_type": "execute_result"
    }
   ],
   "source": [
    "workCols = ['year', 'sex', 'region', 'wrkstat', 'hrs1', 'wkcontct', \n",
    "    'talkspvs', 'effctsup']\n",
    "workData = pd.read_stata('../../data/GSS7218_R3.DTA', columns=workCols) \\\n",
    "    .dropna(axis=0).reset_index(drop=True)\n",
    "workData"
   ]
  },
  {
   "cell_type": "code",
   "execution_count": 31,
   "metadata": {},
   "outputs": [
    {
     "data": {
      "text/plain": [
       "year\n",
       "2014    970\n",
       "Name: count, dtype: int64"
      ]
     },
     "execution_count": 31,
     "metadata": {},
     "output_type": "execute_result"
    }
   ],
   "source": [
    "workData.year.value_counts()"
   ]
  },
  {
   "cell_type": "code",
   "execution_count": 32,
   "metadata": {},
   "outputs": [
    {
     "data": {
      "text/plain": [
       "0    40.0\n",
       "1    20.0\n",
       "2    37.0\n",
       "3    50.0\n",
       "4    38.0\n",
       "Name: hrs1, dtype: category\n",
       "Categories (90, object): [0.0 < 1.0 < 2.0 < 3.0 ... 86.0 < 87.0 < 88.0 < '89+ hrs']"
      ]
     },
     "execution_count": 32,
     "metadata": {},
     "output_type": "execute_result"
    }
   ],
   "source": [
    "workData.hrs1.head()"
   ]
  },
  {
   "cell_type": "markdown",
   "metadata": {},
   "source": [
    "## Bin the data for a column"
   ]
  },
  {
   "cell_type": "code",
   "execution_count": 33,
   "metadata": {},
   "outputs": [
    {
     "data": {
      "text/plain": [
       "0    40.0\n",
       "1    20.0\n",
       "2    37.0\n",
       "3    50.0\n",
       "4    38.0\n",
       "Name: hrs1, dtype: float64"
      ]
     },
     "execution_count": 33,
     "metadata": {},
     "output_type": "execute_result"
    }
   ],
   "source": [
    "# convert hrs1 from category type to str type to float type\n",
    "workData.hrs1 = workData.hrs1.astype(str).replace('89+ hrs','89').astype(float)\n",
    "workData.hrs1.head()"
   ]
  },
  {
   "cell_type": "code",
   "execution_count": 34,
   "metadata": {},
   "outputs": [
    {
     "data": {
      "text/plain": [
       "['0-9 hours',\n",
       " '10-19 hours',\n",
       " '20-29 hours',\n",
       " '30-39 hours',\n",
       " '40-49 hours',\n",
       " '50-59 hours',\n",
       " '60-69 hours',\n",
       " '70-79 hours',\n",
       " '80-89 hours']"
      ]
     },
     "execution_count": 34,
     "metadata": {},
     "output_type": "execute_result"
    }
   ],
   "source": [
    "binLabels = [f'{i}-{i+9} hours' for i in range(0,90,10)]\n",
    "binLabels"
   ]
  },
  {
   "cell_type": "code",
   "execution_count": 35,
   "metadata": {},
   "outputs": [
    {
     "data": {
      "text/html": [
       "<div>\n",
       "<style scoped>\n",
       "    .dataframe tbody tr th:only-of-type {\n",
       "        vertical-align: middle;\n",
       "    }\n",
       "\n",
       "    .dataframe tbody tr th {\n",
       "        vertical-align: top;\n",
       "    }\n",
       "\n",
       "    .dataframe thead th {\n",
       "        text-align: right;\n",
       "    }\n",
       "</style>\n",
       "<table border=\"1\" class=\"dataframe\">\n",
       "  <thead>\n",
       "    <tr style=\"text-align: right;\">\n",
       "      <th></th>\n",
       "      <th>year</th>\n",
       "      <th>sex</th>\n",
       "      <th>region</th>\n",
       "      <th>wrkstat</th>\n",
       "      <th>hrs1</th>\n",
       "      <th>wkcontct</th>\n",
       "      <th>talkspvs</th>\n",
       "      <th>effctsup</th>\n",
       "    </tr>\n",
       "  </thead>\n",
       "  <tbody>\n",
       "    <tr>\n",
       "      <th>0</th>\n",
       "      <td>2014</td>\n",
       "      <td>female</td>\n",
       "      <td>new england</td>\n",
       "      <td>working fulltime</td>\n",
       "      <td>40-49 hours</td>\n",
       "      <td>once or twice a month</td>\n",
       "      <td>very</td>\n",
       "      <td>very</td>\n",
       "    </tr>\n",
       "    <tr>\n",
       "      <th>1</th>\n",
       "      <td>2014</td>\n",
       "      <td>female</td>\n",
       "      <td>new england</td>\n",
       "      <td>working parttime</td>\n",
       "      <td>20-29 hours</td>\n",
       "      <td>never</td>\n",
       "      <td>very</td>\n",
       "      <td>very</td>\n",
       "    </tr>\n",
       "    <tr>\n",
       "      <th>2</th>\n",
       "      <td>2014</td>\n",
       "      <td>female</td>\n",
       "      <td>middle atlantic</td>\n",
       "      <td>working fulltime</td>\n",
       "      <td>30-39 hours</td>\n",
       "      <td>never</td>\n",
       "      <td>very</td>\n",
       "      <td>somewhat</td>\n",
       "    </tr>\n",
       "    <tr>\n",
       "      <th>3</th>\n",
       "      <td>2014</td>\n",
       "      <td>male</td>\n",
       "      <td>new england</td>\n",
       "      <td>working fulltime</td>\n",
       "      <td>50-59 hours</td>\n",
       "      <td>never</td>\n",
       "      <td>somewhat</td>\n",
       "      <td>very</td>\n",
       "    </tr>\n",
       "    <tr>\n",
       "      <th>4</th>\n",
       "      <td>2014</td>\n",
       "      <td>female</td>\n",
       "      <td>new england</td>\n",
       "      <td>working fulltime</td>\n",
       "      <td>30-39 hours</td>\n",
       "      <td>never</td>\n",
       "      <td>very</td>\n",
       "      <td>very</td>\n",
       "    </tr>\n",
       "  </tbody>\n",
       "</table>\n",
       "</div>"
      ],
      "text/plain": [
       "   year     sex           region           wrkstat         hrs1  \\\n",
       "0  2014  female      new england  working fulltime  40-49 hours   \n",
       "1  2014  female      new england  working parttime  20-29 hours   \n",
       "2  2014  female  middle atlantic  working fulltime  30-39 hours   \n",
       "3  2014    male      new england  working fulltime  50-59 hours   \n",
       "4  2014  female      new england  working fulltime  30-39 hours   \n",
       "\n",
       "                wkcontct  talkspvs  effctsup  \n",
       "0  once or twice a month      very      very  \n",
       "1                  never      very      very  \n",
       "2                  never      very  somewhat  \n",
       "3                  never  somewhat      very  \n",
       "4                  never      very      very  "
      ]
     },
     "execution_count": 35,
     "metadata": {},
     "output_type": "execute_result"
    }
   ],
   "source": [
    "workData.hrs1 = pd.cut(workData.hrs1, \n",
    "                       bins=[0,10,20,30,40,50,60,70,80,90], right=False, \n",
    "                       labels=binLabels)\n",
    "workData.head()"
   ]
  },
  {
   "cell_type": "markdown",
   "metadata": {},
   "source": [
    "## Develop and test the first hypothesis"
   ]
  },
  {
   "cell_type": "markdown",
   "metadata": {},
   "source": [
    "### Hpypothesis"
   ]
  },
  {
   "cell_type": "raw",
   "metadata": {},
   "source": [
    "Men are contacted for work reasons outside working hours on a daily basis more often than women"
   ]
  },
  {
   "cell_type": "markdown",
   "metadata": {
    "tags": []
   },
   "source": [
    "### Test"
   ]
  },
  {
   "cell_type": "code",
   "execution_count": 36,
   "metadata": {},
   "outputs": [
    {
     "data": {
      "text/plain": [
       "sex\n",
       "female    514\n",
       "male      456\n",
       "Name: count, dtype: int64"
      ]
     },
     "execution_count": 36,
     "metadata": {},
     "output_type": "execute_result"
    }
   ],
   "source": [
    "workData.sex.value_counts()"
   ]
  },
  {
   "cell_type": "code",
   "execution_count": 37,
   "metadata": {},
   "outputs": [],
   "source": [
    "# drop 58 female respondents to get an equal number of male and female respondents\n",
    "workData = workData.sort_values('sex', ascending=False).iloc[58:]"
   ]
  },
  {
   "cell_type": "raw",
   "metadata": {},
   "source": [
    "# another way to drop 58 female respondents...\n",
    "men = workData.query('sex == \"male\"')\n",
    "women = workData.query('sex == \"female\"').sample(n=456, random_state=20)\n",
    "workData = pd.concat([men,women])"
   ]
  },
  {
   "cell_type": "code",
   "execution_count": 38,
   "metadata": {},
   "outputs": [
    {
     "data": {
      "text/plain": [
       "sex\n",
       "male      456\n",
       "female    456\n",
       "Name: count, dtype: int64"
      ]
     },
     "execution_count": 38,
     "metadata": {},
     "output_type": "execute_result"
    }
   ],
   "source": [
    "workData.sex.value_counts()"
   ]
  },
  {
   "cell_type": "code",
   "execution_count": 39,
   "metadata": {},
   "outputs": [
    {
     "data": {
      "text/html": [
       "<div>\n",
       "<style scoped>\n",
       "    .dataframe tbody tr th:only-of-type {\n",
       "        vertical-align: middle;\n",
       "    }\n",
       "\n",
       "    .dataframe tbody tr th {\n",
       "        vertical-align: top;\n",
       "    }\n",
       "\n",
       "    .dataframe thead th {\n",
       "        text-align: right;\n",
       "    }\n",
       "</style>\n",
       "<table border=\"1\" class=\"dataframe\">\n",
       "  <thead>\n",
       "    <tr style=\"text-align: right;\">\n",
       "      <th></th>\n",
       "      <th>year</th>\n",
       "      <th>sex</th>\n",
       "      <th>region</th>\n",
       "      <th>wrkstat</th>\n",
       "      <th>hrs1</th>\n",
       "      <th>wkcontct</th>\n",
       "      <th>talkspvs</th>\n",
       "      <th>effctsup</th>\n",
       "    </tr>\n",
       "  </thead>\n",
       "  <tbody>\n",
       "    <tr>\n",
       "      <th>377</th>\n",
       "      <td>2014</td>\n",
       "      <td>female</td>\n",
       "      <td>mountain</td>\n",
       "      <td>working fulltime</td>\n",
       "      <td>40-49 hours</td>\n",
       "      <td>two or more times a day</td>\n",
       "      <td>not at all comfortable</td>\n",
       "      <td>not at all effective</td>\n",
       "    </tr>\n",
       "    <tr>\n",
       "      <th>352</th>\n",
       "      <td>2014</td>\n",
       "      <td>female</td>\n",
       "      <td>mountain</td>\n",
       "      <td>working fulltime</td>\n",
       "      <td>80-89 hours</td>\n",
       "      <td>once a day</td>\n",
       "      <td>extremely</td>\n",
       "      <td>not at all effective</td>\n",
       "    </tr>\n",
       "    <tr>\n",
       "      <th>432</th>\n",
       "      <td>2014</td>\n",
       "      <td>female</td>\n",
       "      <td>pacific</td>\n",
       "      <td>working fulltime</td>\n",
       "      <td>50-59 hours</td>\n",
       "      <td>once a day</td>\n",
       "      <td>somewhat</td>\n",
       "      <td>somewhat</td>\n",
       "    </tr>\n",
       "    <tr>\n",
       "      <th>876</th>\n",
       "      <td>2014</td>\n",
       "      <td>female</td>\n",
       "      <td>w. sou. central</td>\n",
       "      <td>working fulltime</td>\n",
       "      <td>40-49 hours</td>\n",
       "      <td>once a day</td>\n",
       "      <td>very</td>\n",
       "      <td>very</td>\n",
       "    </tr>\n",
       "    <tr>\n",
       "      <th>838</th>\n",
       "      <td>2014</td>\n",
       "      <td>female</td>\n",
       "      <td>pacific</td>\n",
       "      <td>working fulltime</td>\n",
       "      <td>30-39 hours</td>\n",
       "      <td>once a day</td>\n",
       "      <td>not at all comfortable</td>\n",
       "      <td>not at all effective</td>\n",
       "    </tr>\n",
       "  </tbody>\n",
       "</table>\n",
       "</div>"
      ],
      "text/plain": [
       "     year     sex           region           wrkstat         hrs1  \\\n",
       "377  2014  female         mountain  working fulltime  40-49 hours   \n",
       "352  2014  female         mountain  working fulltime  80-89 hours   \n",
       "432  2014  female          pacific  working fulltime  50-59 hours   \n",
       "876  2014  female  w. sou. central  working fulltime  40-49 hours   \n",
       "838  2014  female          pacific  working fulltime  30-39 hours   \n",
       "\n",
       "                    wkcontct                talkspvs              effctsup  \n",
       "377  two or more times a day  not at all comfortable  not at all effective  \n",
       "352               once a day               extremely  not at all effective  \n",
       "432               once a day                somewhat              somewhat  \n",
       "876               once a day                    very                  very  \n",
       "838               once a day  not at all comfortable  not at all effective  "
      ]
     },
     "execution_count": 39,
     "metadata": {},
     "output_type": "execute_result"
    }
   ],
   "source": [
    "responses = ['once a day','two or more times a day']\n",
    "df = workData.query('wkcontct in @responses').copy()\n",
    "df.wkcontct = df.wkcontct.cat.remove_unused_categories()\n",
    "df.head()"
   ]
  },
  {
   "cell_type": "code",
   "execution_count": 40,
   "metadata": {},
   "outputs": [
    {
     "data": {
      "text/plain": [
       "Text(0.5, 1.035, 'Are men contacted more on a daily basis in non-working hours?')"
      ]
     },
     "execution_count": 40,
     "metadata": {},
     "output_type": "execute_result"
    },
    {
     "data": {
      "image/png": "[encoded data removed]",
      "text/plain": [
       "<Figure size 1011.11x500 with 2 Axes>"
      ]
     },
     "metadata": {},
     "output_type": "display_data"
    }
   ],
   "source": [
    "g = sns.catplot(data=df, x='sex', col='wkcontct', kind='count')\n",
    "g.fig.suptitle('Are men contacted more on a daily basis in non-working hours?',\n",
    "               y=1.035)"
   ]
  },
  {
   "cell_type": "markdown",
   "metadata": {},
   "source": [
    "### Conclusion"
   ]
  },
  {
   "cell_type": "raw",
   "metadata": {},
   "source": [
    "The results support the hypothesis. Men are contacted on a daily basis for work reasons outside of working hours more often than women are."
   ]
  },
  {
   "cell_type": "markdown",
   "metadata": {},
   "source": [
    "## Develop and test the second hypothesis"
   ]
  },
  {
   "cell_type": "markdown",
   "metadata": {},
   "source": [
    "### Hypothesis"
   ]
  },
  {
   "cell_type": "raw",
   "metadata": {},
   "source": [
    "Being uncomfortable with talking to your supervisor about conflicts between work and family life will result in higher working hours for full time employees"
   ]
  },
  {
   "cell_type": "markdown",
   "metadata": {},
   "source": [
    "### Test"
   ]
  },
  {
   "cell_type": "code",
   "execution_count": 44,
   "metadata": {},
   "outputs": [
    {
     "data": {
      "text/html": [
       "<div>\n",
       "<style scoped>\n",
       "    .dataframe tbody tr th:only-of-type {\n",
       "        vertical-align: middle;\n",
       "    }\n",
       "\n",
       "    .dataframe tbody tr th {\n",
       "        vertical-align: top;\n",
       "    }\n",
       "\n",
       "    .dataframe thead th {\n",
       "        text-align: right;\n",
       "    }\n",
       "</style>\n",
       "<table border=\"1\" class=\"dataframe\">\n",
       "  <thead>\n",
       "    <tr style=\"text-align: right;\">\n",
       "      <th>hrs1</th>\n",
       "      <th>0-9 hours</th>\n",
       "      <th>10-19 hours</th>\n",
       "      <th>20-29 hours</th>\n",
       "      <th>30-39 hours</th>\n",
       "      <th>40-49 hours</th>\n",
       "      <th>50-59 hours</th>\n",
       "      <th>60-69 hours</th>\n",
       "      <th>70-79 hours</th>\n",
       "      <th>80-89 hours</th>\n",
       "    </tr>\n",
       "    <tr>\n",
       "      <th>talkspvs</th>\n",
       "      <th></th>\n",
       "      <th></th>\n",
       "      <th></th>\n",
       "      <th></th>\n",
       "      <th></th>\n",
       "      <th></th>\n",
       "      <th></th>\n",
       "      <th></th>\n",
       "      <th></th>\n",
       "    </tr>\n",
       "  </thead>\n",
       "  <tbody>\n",
       "    <tr>\n",
       "      <th>not at all comfortable</th>\n",
       "      <td>2</td>\n",
       "      <td>4</td>\n",
       "      <td>8</td>\n",
       "      <td>14</td>\n",
       "      <td>58</td>\n",
       "      <td>11</td>\n",
       "      <td>5</td>\n",
       "      <td>3</td>\n",
       "      <td>7</td>\n",
       "    </tr>\n",
       "    <tr>\n",
       "      <th>a little</th>\n",
       "      <td>1</td>\n",
       "      <td>3</td>\n",
       "      <td>13</td>\n",
       "      <td>13</td>\n",
       "      <td>51</td>\n",
       "      <td>11</td>\n",
       "      <td>14</td>\n",
       "      <td>1</td>\n",
       "      <td>0</td>\n",
       "    </tr>\n",
       "    <tr>\n",
       "      <th>somewhat</th>\n",
       "      <td>3</td>\n",
       "      <td>6</td>\n",
       "      <td>16</td>\n",
       "      <td>39</td>\n",
       "      <td>108</td>\n",
       "      <td>40</td>\n",
       "      <td>11</td>\n",
       "      <td>10</td>\n",
       "      <td>4</td>\n",
       "    </tr>\n",
       "    <tr>\n",
       "      <th>very</th>\n",
       "      <td>3</td>\n",
       "      <td>9</td>\n",
       "      <td>17</td>\n",
       "      <td>39</td>\n",
       "      <td>160</td>\n",
       "      <td>47</td>\n",
       "      <td>25</td>\n",
       "      <td>4</td>\n",
       "      <td>4</td>\n",
       "    </tr>\n",
       "    <tr>\n",
       "      <th>extremely</th>\n",
       "      <td>2</td>\n",
       "      <td>4</td>\n",
       "      <td>11</td>\n",
       "      <td>24</td>\n",
       "      <td>58</td>\n",
       "      <td>26</td>\n",
       "      <td>17</td>\n",
       "      <td>3</td>\n",
       "      <td>3</td>\n",
       "    </tr>\n",
       "  </tbody>\n",
       "</table>\n",
       "</div>"
      ],
      "text/plain": [
       "hrs1                    0-9 hours  10-19 hours  20-29 hours  30-39 hours  \\\n",
       "talkspvs                                                                   \n",
       "not at all comfortable          2            4            8           14   \n",
       "a little                        1            3           13           13   \n",
       "somewhat                        3            6           16           39   \n",
       "very                            3            9           17           39   \n",
       "extremely                       2            4           11           24   \n",
       "\n",
       "hrs1                    40-49 hours  50-59 hours  60-69 hours  70-79 hours  \\\n",
       "talkspvs                                                                     \n",
       "not at all comfortable           58           11            5            3   \n",
       "a little                         51           11           14            1   \n",
       "somewhat                        108           40           11           10   \n",
       "very                            160           47           25            4   \n",
       "extremely                        58           26           17            3   \n",
       "\n",
       "hrs1                    80-89 hours  \n",
       "talkspvs                             \n",
       "not at all comfortable            7  \n",
       "a little                          0  \n",
       "somewhat                          4  \n",
       "very                              4  \n",
       "extremely                         3  "
      ]
     },
     "execution_count": 44,
     "metadata": {},
     "output_type": "execute_result"
    }
   ],
   "source": [
    "workPivot = workData[['year','hrs1','talkspvs']].pivot_table(\n",
    "    columns='hrs1', index='talkspvs', aggfunc='count', observed=False)\n",
    "workPivot = workPivot.droplevel(0, axis=1)   # the top column level isn’t needed\n",
    "workPivot.head()"
   ]
  },
  {
   "cell_type": "code",
   "execution_count": 42,
   "metadata": {},
   "outputs": [
    {
     "data": {
      "text/plain": [
       "[Text(0.5, 23.52222222222222, ''),\n",
       " Text(50.72222222222221, 0.5, 'How comfortable talking with supervisor?')]"
      ]
     },
     "execution_count": 42,
     "metadata": {},
     "output_type": "execute_result"
    },
    {
     "data": {
      "image/png": "[encoded data removed]",
      "text/plain": [
       "<Figure size 640x480 with 2 Axes>"
      ]
     },
     "metadata": {},
     "output_type": "display_data"
    }
   ],
   "source": [
    "ax = sns.heatmap(workPivot, cmap='Blues', annot=True, fmt='.3g')\n",
    "ax.set_title(\n",
    "    \"Do those who don't like to talk with their supervisors work more hours?\\n\")\n",
    "ax.set(xlabel='', ylabel='How comfortable talking with supervisor?')"
   ]
  },
  {
   "cell_type": "markdown",
   "metadata": {},
   "source": [
    "### Conclusion"
   ]
  },
  {
   "cell_type": "raw",
   "metadata": {},
   "source": [
    "The data doesn't support the hypothesis. The comfort level of the respondents when talking with their supervisors about work-life conflicts doesn’t have a significant effect on their weekly number of hours worked."
   ]
  },
  {
   "cell_type": "markdown",
   "metadata": {},
   "source": [
    "## Develop and test the third hypothesis"
   ]
  },
  {
   "cell_type": "markdown",
   "metadata": {},
   "source": [
    "### Hypothesis"
   ]
  },
  {
   "cell_type": "raw",
   "metadata": {},
   "source": [
    "More women than men think their supervisors are effective when helping them resolve work-life conflicts."
   ]
  },
  {
   "cell_type": "markdown",
   "metadata": {},
   "source": [
    "### Test"
   ]
  },
  {
   "cell_type": "code",
   "execution_count": 43,
   "metadata": {},
   "outputs": [
    {
     "data": {
      "text/plain": [
       "Text(0.5, 1.025, 'How effective is your supervisor at helping you resolve work-life conflicts?')"
      ]
     },
     "execution_count": 43,
     "metadata": {},
     "output_type": "execute_result"
    },
    {
     "data": {
      "image/png": "[encoded data removed]",
      "text/plain": [
       "<Figure size 1011.11x1000 with 3 Axes>"
      ]
     },
     "metadata": {},
     "output_type": "display_data"
    }
   ],
   "source": [
    "responses = ['very','somewhat','extremely']\n",
    "df = workData.query('effctsup in @responses').copy()\n",
    "df.effctsup = df.effctsup.cat.remove_unused_categories()\n",
    "\n",
    "g = sns.catplot(data=df, x='sex', col='effctsup', kind='count', col_wrap=2)\n",
    "g.fig.suptitle('How effective is your supervisor at helping you resolve ' +\n",
    "               'work-life conflicts?', y=1.025)"
   ]
  },
  {
   "cell_type": "markdown",
   "metadata": {},
   "source": [
    "### Conclusion"
   ]
  },
  {
   "cell_type": "raw",
   "metadata": {},
   "source": [
    "The data does not support the hypothesis. It is not clear that more women than men think their supervisors are effective when helping them resolve work-life conflicts."
   ]
  },
  {
   "cell_type": "code",
   "execution_count": null,
   "metadata": {},
   "outputs": [],
   "source": []
  }
 ],
 "metadata": {
  "colab": {
   "collapsed_sections": [],
   "name": "GSS example - simple",
   "provenance": [],
   "toc_visible": true,
   "version": "0.3.2"
  },
  "kernelspec": {
   "display_name": "Python 3 (ipykernel)",
   "language": "python",
   "name": "python3"
  },
  "language_info": {
   "codemirror_mode": {
    "name": "ipython",
    "version": 3
   },
   "file_extension": ".py",
   "mimetype": "text/x-python",
   "name": "python",
   "nbconvert_exporter": "python",
   "pygments_lexer": "ipython3",
   "version": "3.11.7"
  },
  "toc": {
   "base_numbering": 1,
   "nav_menu": {},
   "number_sections": true,
   "sideBar": true,
   "skip_h1_title": false,
   "title_cell": "Table of Contents",
   "title_sidebar": "Contents",
   "toc_cell": false,
   "toc_position": {},
   "toc_section_display": true,
   "toc_window_display": false
  },
  "varInspector": {
   "cols": {
    "lenName": 16,
    "lenType": 16,
    "lenVar": 40
   },
   "kernels_config": {
    "python": {
     "delete_cmd_postfix": "",
     "delete_cmd_prefix": "del ",
     "library": "var_list.py",
     "varRefreshCmd": "print(var_dic_list())"
    },
    "r": {
     "delete_cmd_postfix": ") ",
     "delete_cmd_prefix": "rm(",
     "library": "var_list.r",
     "varRefreshCmd": "cat(var_dic_list()) "
    }
   },
   "types_to_exclude": [
    "module",
    "function",
    "builtin_function_or_method",
    "instance",
    "_Feature"
   ],
   "window_display": false
  }
 },
 "nbformat": 4,
 "nbformat_minor": 4
}
