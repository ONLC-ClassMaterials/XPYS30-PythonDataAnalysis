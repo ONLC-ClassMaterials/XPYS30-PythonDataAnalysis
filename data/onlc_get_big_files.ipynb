{
 "cells": [
  {
   "cell_type": "markdown",
   "id": "15b273af",
   "metadata": {},
   "source": [
    "Several of the files we need are too large to fit in our GitHub Repo, so we've parked them in our Azure Blob Storage. Run this notebook to download those files."
   ]
  },
  {
   "cell_type": "code",
   "execution_count": 1,
   "id": "ab8d304d",
   "metadata": {},
   "outputs": [
    {
     "name": "stdout",
     "output_type": "stream",
     "text": [
      "Downloading https://onlcfiles.blob.core.windows.net/coursefiles/XPYS30/GSS_stata.zip...\n",
      "Downloading https://onlcfiles.blob.core.windows.net/coursefiles/XPYS30/oesm18all.zip...\n",
      "Downloading https://onlcfiles.blob.core.windows.net/coursefiles/XPYS30/RDS-2013-0009.4_Data_Format5_SQLite.zip...\n",
      "Downloading https://onlcfiles.blob.core.windows.net/coursefiles/XPYS30/FPA_FOD_20170508.sqlite...\n"
     ]
    }
   ],
   "source": [
    "import urllib.request\n",
    "\n",
    "root_url = 'https://onlcfiles.blob.core.windows.net/coursefiles/XPYS30/'\n",
    "list_of_files = ['GSS_stata.zip','oesm18all.zip','RDS-2013-0009.4_Data_Format5_SQLite.zip','FPA_FOD_20170508.sqlite']\n",
    "\n",
    "# Loop through the list of files and download each one\n",
    "for file in list_of_files:\n",
    "    full_url = root_url + file\n",
    "    print(f\"Downloading {full_url}...\")\n",
    "    urllib.request.urlretrieve(full_url, file)"
   ]
  }
 ],
 "metadata": {
  "kernelspec": {
   "display_name": "Python 3",
   "language": "python",
   "name": "python3"
  },
  "language_info": {
   "codemirror_mode": {
    "name": "ipython",
    "version": 3
   },
   "file_extension": ".py",
   "mimetype": "text/x-python",
   "name": "python",
   "nbconvert_exporter": "python",
   "pygments_lexer": "ipython3",
   "version": "3.13.7"
  }
 },
 "nbformat": 4,
 "nbformat_minor": 5
}
